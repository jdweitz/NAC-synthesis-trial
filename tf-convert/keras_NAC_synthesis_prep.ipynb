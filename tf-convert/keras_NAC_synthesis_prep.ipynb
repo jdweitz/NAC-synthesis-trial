{
  "nbformat": 4,
  "nbformat_minor": 0,
  "metadata": {
    "colab": {
      "provenance": [],
      "collapsed_sections": [
        "rV5ntgxjjOKl",
        "gDvKMiWvjSF7",
        "1E4H4HbNz02l",
        "ePsWxtveB-zM"
      ]
    },
    "kernelspec": {
      "name": "python3",
      "display_name": "Python 3"
    },
    "language_info": {
      "name": "python"
    }
  },
  "cells": [
    {
      "cell_type": "markdown",
      "source": [
        "## Directory and imports"
      ],
      "metadata": {
        "id": "66XsrHeejZGQ"
      }
    },
    {
      "cell_type": "code",
      "source": [
        "from google.colab import drive\n",
        "drive.mount('/content/drive')"
      ],
      "metadata": {
        "colab": {
          "base_uri": "https://localhost:8080/"
        },
        "id": "9ydcw7MGauds",
        "outputId": "2c09aa0a-59e8-4aeb-8639-c3fb3d3a631a"
      },
      "execution_count": 1,
      "outputs": [
        {
          "output_type": "stream",
          "name": "stdout",
          "text": [
            "Mounted at /content/drive\n"
          ]
        }
      ]
    },
    {
      "cell_type": "code",
      "source": [
        "%cd /content/drive/MyDrive/NAS_BraggNN/BraggNN"
      ],
      "metadata": {
        "colab": {
          "base_uri": "https://localhost:8080/"
        },
        "id": "ND2gLnajbi90",
        "outputId": "9724941b-fd42-44c4-a620-661647e789f3"
      },
      "execution_count": 2,
      "outputs": [
        {
          "output_type": "stream",
          "name": "stdout",
          "text": [
            "/content/drive/MyDrive/NAS_BraggNN/BraggNN\n"
          ]
        }
      ]
    },
    {
      "cell_type": "code",
      "source": [
        "import torch\n",
        "import torch.nn as nn\n",
        "import torch.quantization\n",
        "# from updated_dataset import BraggNNDataset # commented out: use when in braggnn env\n",
        "import numpy as np\n",
        "from tqdm import tqdm\n",
        "from torch.utils.data import DataLoader\n",
        "from torch.optim.lr_scheduler import _LRScheduler\n",
        "from functools import partial\n",
        "import os\n",
        "from datetime import datetime\n",
        "import time"
      ],
      "metadata": {
        "id": "2k7RoABbgOau"
      },
      "execution_count": 3,
      "outputs": []
    },
    {
      "cell_type": "markdown",
      "source": [
        "## PyTorch Model"
      ],
      "metadata": {
        "id": "bE3TkUm9dnHg"
      }
    },
    {
      "cell_type": "code",
      "source": [
        "class TorchNAC(torch.nn.Module):\n",
        "    def __init__(self):\n",
        "        super().__init__()\n",
        "        self.conv1 = nn.Conv2d(1, 32, kernel_size=3, stride=1)\n",
        "        self.block1 = nn.Sequential(\n",
        "            nn.Conv2d(32, 4, 1, 1), #nn.Linear(32, 4), #Point-wise Convolution\n",
        "            nn.ReLU(),\n",
        "            nn.Conv2d(4, 32, 1, 1), #nn.Linear(4, 32), #Point-wise Convolution\n",
        "            nn.BatchNorm2d(32),\n",
        "            nn.LeakyReLU() #nn.LeakyReLU() (tried out to see if would get a smaller delta is used relu - not the case)\n",
        "        )\n",
        "        self.block2 = nn.Sequential(\n",
        "            nn.Conv2d(32, 4, 1, 1), #nn.Linear(32, 4), #Point-wise Convolution\n",
        "            nn.BatchNorm2d(4),\n",
        "            nn.LeakyReLU(), #nn.GELU(), (hls4ml not supported)\n",
        "            nn.Conv2d(4, 32, 3, 1),\n",
        "            nn.BatchNorm2d(32), #nn.LayerNorm((32, 7, 7)), (hls4ml not supported)\n",
        "            nn.LeakyReLU() #nn.GELU() (hls4ml not supported)\n",
        "        )\n",
        "        self.block3 = nn.Sequential(\n",
        "            nn.Conv2d(32, 8, 3, 1),\n",
        "            nn.BatchNorm2d(8), #nn.LayerNorm((8, 5, 5)), (hls4ml not supported)\n",
        "            nn.LeakyReLU(), #nn.GELU(), (hls4ml not supported)\n",
        "            nn.Conv2d(8, 64, 3, 1),\n",
        "        )\n",
        "        self.flatten = nn.Flatten() # added this for hls4ml support\n",
        "        self.mlp = nn.Sequential(\n",
        "            nn.Linear(576, 8),\n",
        "            nn.BatchNorm1d(8), #nn.LayerNorm((8)), (hls4ml not supported)\n",
        "            nn.ReLU(),\n",
        "            nn.Linear(8, 4),\n",
        "            nn.LeakyReLU(), #nn.GELU(), (hls4ml not supported)\n",
        "            nn.Linear(4,4),\n",
        "            nn.BatchNorm1d(4), #nn.LayerNorm((4)), (hls4ml not supported)\n",
        "            nn.LeakyReLU(), #nn.GELU(), (hls4ml not supported)\n",
        "            nn.Linear(4,2),\n",
        "        )\n",
        "\n",
        "    def forward(self,x):\n",
        "        x = self.conv1(x)\n",
        "        x = self.block1(x)\n",
        "        x = self.block2(x)\n",
        "        x = self.block3(x)\n",
        "        x = self.flatten(x) #torch.flatten(x,1) # removed this as hls4ml does not support it\n",
        "        x = self.mlp(x)\n",
        "        return x"
      ],
      "metadata": {
        "id": "rUX1AqEpdrKB"
      },
      "execution_count": 5,
      "outputs": []
    },
    {
      "cell_type": "code",
      "source": [
        "pytorch_model = TorchNAC()\n",
        "\n",
        "pytorch_model.cpu()\n",
        "\n",
        "print(pytorch_model)"
      ],
      "metadata": {
        "colab": {
          "base_uri": "https://localhost:8080/"
        },
        "id": "scoBG-9Fdyuf",
        "outputId": "641ce038-6164-45a4-ff3e-b17182844deb"
      },
      "execution_count": 6,
      "outputs": [
        {
          "output_type": "stream",
          "name": "stdout",
          "text": [
            "TorchNAC(\n",
            "  (conv1): Conv2d(1, 32, kernel_size=(3, 3), stride=(1, 1))\n",
            "  (block1): Sequential(\n",
            "    (0): Conv2d(32, 4, kernel_size=(1, 1), stride=(1, 1))\n",
            "    (1): ReLU()\n",
            "    (2): Conv2d(4, 32, kernel_size=(1, 1), stride=(1, 1))\n",
            "    (3): BatchNorm2d(32, eps=1e-05, momentum=0.1, affine=True, track_running_stats=True)\n",
            "    (4): LeakyReLU(negative_slope=0.01)\n",
            "  )\n",
            "  (block2): Sequential(\n",
            "    (0): Conv2d(32, 4, kernel_size=(1, 1), stride=(1, 1))\n",
            "    (1): BatchNorm2d(4, eps=1e-05, momentum=0.1, affine=True, track_running_stats=True)\n",
            "    (2): LeakyReLU(negative_slope=0.01)\n",
            "    (3): Conv2d(4, 32, kernel_size=(3, 3), stride=(1, 1))\n",
            "    (4): BatchNorm2d(32, eps=1e-05, momentum=0.1, affine=True, track_running_stats=True)\n",
            "    (5): LeakyReLU(negative_slope=0.01)\n",
            "  )\n",
            "  (block3): Sequential(\n",
            "    (0): Conv2d(32, 8, kernel_size=(3, 3), stride=(1, 1))\n",
            "    (1): BatchNorm2d(8, eps=1e-05, momentum=0.1, affine=True, track_running_stats=True)\n",
            "    (2): LeakyReLU(negative_slope=0.01)\n",
            "    (3): Conv2d(8, 64, kernel_size=(3, 3), stride=(1, 1))\n",
            "  )\n",
            "  (flatten): Flatten(start_dim=1, end_dim=-1)\n",
            "  (mlp): Sequential(\n",
            "    (0): Linear(in_features=576, out_features=8, bias=True)\n",
            "    (1): BatchNorm1d(8, eps=1e-05, momentum=0.1, affine=True, track_running_stats=True)\n",
            "    (2): ReLU()\n",
            "    (3): Linear(in_features=8, out_features=4, bias=True)\n",
            "    (4): LeakyReLU(negative_slope=0.01)\n",
            "    (5): Linear(in_features=4, out_features=4, bias=True)\n",
            "    (6): BatchNorm1d(4, eps=1e-05, momentum=0.1, affine=True, track_running_stats=True)\n",
            "    (7): LeakyReLU(negative_slope=0.01)\n",
            "    (8): Linear(in_features=4, out_features=2, bias=True)\n",
            "  )\n",
            ")\n"
          ]
        }
      ]
    },
    {
      "cell_type": "code",
      "source": [
        "import torch\n",
        "\n",
        "pytorch_model_path = 'model_weights_300_epochs.pth'\n",
        "\n",
        "# Load the state dictionary from the file directly\n",
        "pytorch_state_dict = torch.load(pytorch_model_path, map_location=torch.device('cpu'))\n",
        "\n",
        "# Load the state dictionary into the model\n",
        "pytorch_model.load_state_dict(pytorch_state_dict)\n",
        "\n",
        "pytorch_model.eval()"
      ],
      "metadata": {
        "colab": {
          "base_uri": "https://localhost:8080/"
        },
        "id": "VBY75Ya7d2W1",
        "outputId": "6b6272e8-bc60-4ad1-e9c0-ed6fd8c5db90"
      },
      "execution_count": 7,
      "outputs": [
        {
          "output_type": "execute_result",
          "data": {
            "text/plain": [
              "TorchNAC(\n",
              "  (conv1): Conv2d(1, 32, kernel_size=(3, 3), stride=(1, 1))\n",
              "  (block1): Sequential(\n",
              "    (0): Conv2d(32, 4, kernel_size=(1, 1), stride=(1, 1))\n",
              "    (1): ReLU()\n",
              "    (2): Conv2d(4, 32, kernel_size=(1, 1), stride=(1, 1))\n",
              "    (3): BatchNorm2d(32, eps=1e-05, momentum=0.1, affine=True, track_running_stats=True)\n",
              "    (4): LeakyReLU(negative_slope=0.01)\n",
              "  )\n",
              "  (block2): Sequential(\n",
              "    (0): Conv2d(32, 4, kernel_size=(1, 1), stride=(1, 1))\n",
              "    (1): BatchNorm2d(4, eps=1e-05, momentum=0.1, affine=True, track_running_stats=True)\n",
              "    (2): LeakyReLU(negative_slope=0.01)\n",
              "    (3): Conv2d(4, 32, kernel_size=(3, 3), stride=(1, 1))\n",
              "    (4): BatchNorm2d(32, eps=1e-05, momentum=0.1, affine=True, track_running_stats=True)\n",
              "    (5): LeakyReLU(negative_slope=0.01)\n",
              "  )\n",
              "  (block3): Sequential(\n",
              "    (0): Conv2d(32, 8, kernel_size=(3, 3), stride=(1, 1))\n",
              "    (1): BatchNorm2d(8, eps=1e-05, momentum=0.1, affine=True, track_running_stats=True)\n",
              "    (2): LeakyReLU(negative_slope=0.01)\n",
              "    (3): Conv2d(8, 64, kernel_size=(3, 3), stride=(1, 1))\n",
              "  )\n",
              "  (flatten): Flatten(start_dim=1, end_dim=-1)\n",
              "  (mlp): Sequential(\n",
              "    (0): Linear(in_features=576, out_features=8, bias=True)\n",
              "    (1): BatchNorm1d(8, eps=1e-05, momentum=0.1, affine=True, track_running_stats=True)\n",
              "    (2): ReLU()\n",
              "    (3): Linear(in_features=8, out_features=4, bias=True)\n",
              "    (4): LeakyReLU(negative_slope=0.01)\n",
              "    (5): Linear(in_features=4, out_features=4, bias=True)\n",
              "    (6): BatchNorm1d(4, eps=1e-05, momentum=0.1, affine=True, track_running_stats=True)\n",
              "    (7): LeakyReLU(negative_slope=0.01)\n",
              "    (8): Linear(in_features=4, out_features=2, bias=True)\n",
              "  )\n",
              ")"
            ]
          },
          "metadata": {},
          "execution_count": 7
        }
      ]
    },
    {
      "cell_type": "code",
      "source": [
        "# Check the keys\n",
        "for key in pytorch_state_dict.keys():\n",
        "    print(key)"
      ],
      "metadata": {
        "colab": {
          "base_uri": "https://localhost:8080/"
        },
        "id": "LAb2tMDGgGri",
        "outputId": "1993b954-8a8b-4c2f-9554-3f0d2658166f"
      },
      "execution_count": 8,
      "outputs": [
        {
          "output_type": "stream",
          "name": "stdout",
          "text": [
            "conv1.weight\n",
            "conv1.bias\n",
            "block1.0.weight\n",
            "block1.0.bias\n",
            "block1.2.weight\n",
            "block1.2.bias\n",
            "block1.3.weight\n",
            "block1.3.bias\n",
            "block1.3.running_mean\n",
            "block1.3.running_var\n",
            "block1.3.num_batches_tracked\n",
            "block2.0.weight\n",
            "block2.0.bias\n",
            "block2.1.weight\n",
            "block2.1.bias\n",
            "block2.1.running_mean\n",
            "block2.1.running_var\n",
            "block2.1.num_batches_tracked\n",
            "block2.3.weight\n",
            "block2.3.bias\n",
            "block2.4.weight\n",
            "block2.4.bias\n",
            "block2.4.running_mean\n",
            "block2.4.running_var\n",
            "block2.4.num_batches_tracked\n",
            "block3.0.weight\n",
            "block3.0.bias\n",
            "block3.1.weight\n",
            "block3.1.bias\n",
            "block3.1.running_mean\n",
            "block3.1.running_var\n",
            "block3.1.num_batches_tracked\n",
            "block3.3.weight\n",
            "block3.3.bias\n",
            "mlp.0.weight\n",
            "mlp.0.bias\n",
            "mlp.1.weight\n",
            "mlp.1.bias\n",
            "mlp.1.running_mean\n",
            "mlp.1.running_var\n",
            "mlp.1.num_batches_tracked\n",
            "mlp.3.weight\n",
            "mlp.3.bias\n",
            "mlp.5.weight\n",
            "mlp.5.bias\n",
            "mlp.6.weight\n",
            "mlp.6.bias\n",
            "mlp.6.running_mean\n",
            "mlp.6.running_var\n",
            "mlp.6.num_batches_tracked\n",
            "mlp.8.weight\n",
            "mlp.8.bias\n"
          ]
        }
      ]
    },
    {
      "cell_type": "markdown",
      "source": [
        "## TF model"
      ],
      "metadata": {
        "id": "euyqGf-kdjth"
      }
    },
    {
      "cell_type": "code",
      "source": [
        "#!pip install tensorflow"
      ],
      "metadata": {
        "id": "3RkpQKsQZNXz"
      },
      "execution_count": null,
      "outputs": []
    },
    {
      "cell_type": "code",
      "execution_count": 55,
      "metadata": {
        "id": "VDLrR-iBZ2P4"
      },
      "outputs": [],
      "source": [
        "# Changed architecture for tf\n",
        "\n",
        "import tensorflow as tf\n",
        "from tensorflow.keras import layers, models\n",
        "\n",
        "class NAC(models.Model):\n",
        "    def __init__(self):\n",
        "        super(NAC, self).__init__()\n",
        "        self.conv1 = layers.Conv2D(32, kernel_size=3, strides=1, padding='valid', input_shape=(11, 11, 1)) # 11x11 with 1 channel\n",
        "\n",
        "        self.block1 = models.Sequential([\n",
        "            layers.Conv2D(4, 1, strides=1, padding='valid'),\n",
        "            layers.ReLU(),\n",
        "            layers.Conv2D(32, 1, strides=1, padding='valid'),\n",
        "            layers.BatchNormalization(),\n",
        "            layers.LeakyReLU()\n",
        "        ])\n",
        "\n",
        "        self.block2 = models.Sequential([\n",
        "            layers.Conv2D(4, 1, strides=1, padding='valid'),\n",
        "            layers.BatchNormalization(),\n",
        "            layers.LeakyReLU(),\n",
        "            layers.Conv2D(32, 3, strides=1, padding='valid'),\n",
        "            layers.BatchNormalization(),\n",
        "            layers.LeakyReLU()\n",
        "        ])\n",
        "\n",
        "        self.block3 = models.Sequential([\n",
        "            layers.Conv2D(8, 3, strides=1, padding='valid'),\n",
        "            layers.BatchNormalization(),\n",
        "            layers.LeakyReLU(),\n",
        "            layers.Conv2D(64, 3, strides=1, padding='valid')\n",
        "        ])\n",
        "\n",
        "        self.flatten = layers.Flatten()\n",
        "        self.mlp = models.Sequential([\n",
        "            layers.Dense(8), # input feature size is implicit (should be 576, was 1600 -> changed all padding to 'valid' iso 'same')\n",
        "            layers.BatchNormalization(),\n",
        "            layers.ReLU(),\n",
        "            layers.Dense(4),\n",
        "            layers.LeakyReLU(),\n",
        "            layers.Dense(4),\n",
        "            layers.BatchNormalization(),\n",
        "            layers.LeakyReLU(),\n",
        "            layers.Dense(2)\n",
        "        ])\n",
        "\n",
        "    def call(self, x):\n",
        "        x = self.conv1(x)\n",
        "        x = self.block1(x)\n",
        "        x = self.block2(x)\n",
        "        x = self.block3(x)\n",
        "        x = self.flatten(x)\n",
        "        x = self.mlp(x)\n",
        "        return x"
      ]
    },
    {
      "cell_type": "code",
      "source": [
        "with tf.device('/CPU:0'):  # '/GPU:0' to use the GPU; '/CPU:0' to use the CPU\n",
        "    tf_model = NAC()  # TF model"
      ],
      "metadata": {
        "id": "8Rz4H-KxZkZJ"
      },
      "execution_count": 10,
      "outputs": []
    },
    {
      "cell_type": "code",
      "source": [
        "# Model's architecture\n",
        "tf_model.build((None, 11, 11, 1))  # Input shape is (11, 11, 1)\n",
        "tf_model.summary()"
      ],
      "metadata": {
        "colab": {
          "base_uri": "https://localhost:8080/"
        },
        "id": "Pel1UBoLZpDk",
        "outputId": "873844c8-ddbc-4dae-fe50-7348aace4e12"
      },
      "execution_count": 11,
      "outputs": [
        {
          "output_type": "stream",
          "name": "stdout",
          "text": [
            "Model: \"nac\"\n",
            "_________________________________________________________________\n",
            " Layer (type)                Output Shape              Param #   \n",
            "=================================================================\n",
            " conv2d (Conv2D)             multiple                  320       \n",
            "                                                                 \n",
            " sequential (Sequential)     (None, 9, 9, 32)          420       \n",
            "                                                                 \n",
            " sequential_1 (Sequential)   (None, 7, 7, 32)          1460      \n",
            "                                                                 \n",
            " sequential_2 (Sequential)   (None, 3, 3, 64)          7016      \n",
            "                                                                 \n",
            " flatten (Flatten)           multiple                  0         \n",
            "                                                                 \n",
            " sequential_3 (Sequential)   (None, 2)                 4730      \n",
            "                                                                 \n",
            "=================================================================\n",
            "Total params: 13946 (54.48 KB)\n",
            "Trainable params: 13770 (53.79 KB)\n",
            "Non-trainable params: 176 (704.00 Byte)\n",
            "_________________________________________________________________\n"
          ]
        }
      ]
    },
    {
      "cell_type": "markdown",
      "source": [
        "## Transpose and Assign Weights to Keras Model"
      ],
      "metadata": {
        "id": "AQKm1zR_ORrw"
      }
    },
    {
      "cell_type": "markdown",
      "source": [
        "Move the respective PyTorch tensor to CPU and convert to numpy array:\n",
        ".cpu().numpy()"
      ],
      "metadata": {
        "id": "bNk12OxHhlEO"
      }
    },
    {
      "cell_type": "markdown",
      "source": [
        "The below is very recursive, initially designed to check each layer"
      ],
      "metadata": {
        "id": "DrAguo_A8dJ3"
      }
    },
    {
      "cell_type": "markdown",
      "source": [
        "For reference: pytorch: (out_channels, in_channels, height, width); tf: (height, width, in_channels, out_channels)"
      ],
      "metadata": {
        "id": "26IEyeZI9lwj"
      }
    },
    {
      "cell_type": "code",
      "source": [
        "## Todo: iterate through the keys:\n",
        "# for key in pytorch_state_dict.keys():\n",
        "#     print(key)\n",
        "## loop through abd convert the weights (trasnspose), and everything else (bias, running_mean, running_var, num_batches_tracked)\n",
        "## instead of the below"
      ],
      "metadata": {
        "id": "ZoTxfmyXAQuz"
      },
      "execution_count": 1,
      "outputs": []
    },
    {
      "cell_type": "code",
      "source": [
        "# Transpose and set weights for the 'conv1' layer in tf model\n",
        "conv1_weight = pytorch_state_dict['conv1.weight'].cpu().numpy().transpose((2, 3, 1, 0))\n",
        "conv1_bias = pytorch_state_dict['conv1.bias'].cpu().numpy()\n",
        "\n",
        "tf_model.conv1.set_weights([conv1_weight, conv1_bias])"
      ],
      "metadata": {
        "id": "bFs78fglvqf9"
      },
      "execution_count": 12,
      "outputs": []
    },
    {
      "cell_type": "markdown",
      "source": [
        "block 1"
      ],
      "metadata": {
        "id": "1zFFtYOQb2dJ"
      }
    },
    {
      "cell_type": "code",
      "source": [
        "# block1 - first conv2d layer\n",
        "\n",
        "block1_conv1_weight = pytorch_state_dict['block1.0.weight'].cpu().numpy().transpose((2, 3, 1, 0))\n",
        "block1_conv1_bias = pytorch_state_dict['block1.0.bias'].cpu().numpy()\n",
        "\n",
        "tf_model.block1.layers[0].set_weights([block1_conv1_weight, block1_conv1_bias])\n"
      ],
      "metadata": {
        "id": "jWDe1aAUOW0g"
      },
      "execution_count": 13,
      "outputs": []
    },
    {
      "cell_type": "code",
      "source": [
        "# block1 - second conv2d layer\n",
        "\n",
        "block1_conv2_weight = pytorch_state_dict['block1.2.weight'].cpu().numpy().transpose((2, 3, 1, 0))\n",
        "block1_conv2_bias = pytorch_state_dict['block1.2.bias'].cpu().numpy()\n",
        "\n",
        "tf_model.block1.layers[2].set_weights([block1_conv2_weight, block1_conv2_bias])\n"
      ],
      "metadata": {
        "id": "aTfpLDD6RpX9"
      },
      "execution_count": 14,
      "outputs": []
    },
    {
      "cell_type": "code",
      "source": [
        "# block1 - BatchNorm layer\n",
        "\n",
        "block1_bn_gamma = pytorch_state_dict['block1.3.weight'].cpu().numpy()\n",
        "block1_bn_beta = pytorch_state_dict['block1.3.bias'].cpu().numpy()\n",
        "block1_bn_running_mean = pytorch_state_dict['block1.3.running_mean'].cpu().numpy()\n",
        "block1_bn_running_var = pytorch_state_dict['block1.3.running_var'].cpu().numpy()\n",
        "\n",
        "tf_model.block1.layers[3].set_weights([block1_bn_gamma, block1_bn_beta, block1_bn_running_mean, block1_bn_running_var])\n",
        "\n",
        "# Need this too?\n",
        "# block1.3.num_batches_tracked\n"
      ],
      "metadata": {
        "id": "52VX8GJ1R053"
      },
      "execution_count": 15,
      "outputs": []
    },
    {
      "cell_type": "markdown",
      "source": [
        "block 2"
      ],
      "metadata": {
        "id": "oi59-w8wb0q9"
      }
    },
    {
      "cell_type": "code",
      "source": [
        "# block2 - first conv2d layer\n",
        "\n",
        "block2_conv1_weight = pytorch_state_dict['block2.0.weight'].cpu().numpy().transpose((2, 3, 1, 0))\n",
        "block2_conv1_bias = pytorch_state_dict['block2.0.bias'].cpu().numpy()\n",
        "\n",
        "# Assign weights to the corresponding layer\n",
        "tf_model.block2.layers[0].set_weights([block2_conv1_weight, block2_conv1_bias])\n"
      ],
      "metadata": {
        "id": "Mdu-7a8JSEVU"
      },
      "execution_count": 16,
      "outputs": []
    },
    {
      "cell_type": "code",
      "source": [
        "# block2 - first BatchNorm layer\n",
        "\n",
        "block2_bn1_gamma = pytorch_state_dict['block2.1.weight'].cpu().numpy()\n",
        "block2_bn1_beta = pytorch_state_dict['block2.1.bias'].cpu().numpy()\n",
        "block2_bn1_running_mean = pytorch_state_dict['block2.1.running_mean'].cpu().numpy()\n",
        "block2_bn1_running_var = pytorch_state_dict['block2.1.running_var'].cpu().numpy()\n",
        "\n",
        "# Assign weights to the corresponding layer in the Keras model\n",
        "tf_model.block2.layers[1].set_weights([block2_bn1_gamma, block2_bn1_beta, block2_bn1_running_mean, block2_bn1_running_var])\n"
      ],
      "metadata": {
        "id": "_VmQfEzKaFGu"
      },
      "execution_count": 17,
      "outputs": []
    },
    {
      "cell_type": "code",
      "source": [
        "# block2 - second conv2d layer\n",
        "\n",
        "block2_conv2_weight = pytorch_state_dict['block2.3.weight'].cpu().numpy().transpose((2, 3, 1, 0))\n",
        "block2_conv2_bias = pytorch_state_dict['block2.3.bias'].cpu().numpy()\n",
        "\n",
        "# Assign weights to the corresponding layer\n",
        "tf_model.block2.layers[3].set_weights([block2_conv2_weight, block2_conv2_bias])\n"
      ],
      "metadata": {
        "id": "ytZVpiwNOeUN"
      },
      "execution_count": 18,
      "outputs": []
    },
    {
      "cell_type": "code",
      "source": [
        "# block2 - second BatchNorm layer\n",
        "\n",
        "block2_bn2_gamma = pytorch_state_dict['block2.4.weight'].cpu().numpy()\n",
        "block2_bn2_beta = pytorch_state_dict['block2.4.bias'].cpu().numpy()\n",
        "block2_bn2_running_mean = pytorch_state_dict['block2.4.running_mean'].cpu().numpy()\n",
        "block2_bn2_running_var = pytorch_state_dict['block2.4.running_var'].cpu().numpy()\n",
        "\n",
        "# Assign weights to the corresponding layer\n",
        "tf_model.block2.layers[4].set_weights([block2_bn2_gamma, block2_bn2_beta, block2_bn2_running_mean, block2_bn2_running_var])\n"
      ],
      "metadata": {
        "id": "T5kYqNSoaMrm"
      },
      "execution_count": 19,
      "outputs": []
    },
    {
      "cell_type": "markdown",
      "source": [
        "block 3"
      ],
      "metadata": {
        "id": "cRrSA9iZbyJC"
      }
    },
    {
      "cell_type": "code",
      "source": [
        "# block3 - first conv2d layer\n",
        "\n",
        "block3_conv1_weight = pytorch_state_dict['block3.0.weight'].cpu().numpy().transpose((2, 3, 1, 0))\n",
        "block3_conv1_bias = pytorch_state_dict['block3.0.bias'].cpu().numpy()\n",
        "\n",
        "# Assign weights to the corresponding layer\n",
        "tf_model.block3.layers[0].set_weights([block3_conv1_weight, block3_conv1_bias])\n"
      ],
      "metadata": {
        "id": "S8-cclkWaqm9"
      },
      "execution_count": 20,
      "outputs": []
    },
    {
      "cell_type": "code",
      "source": [
        "# block3 - first BatchNorm layer\n",
        "\n",
        "block3_bn_gamma = pytorch_state_dict['block3.1.weight'].cpu().numpy()\n",
        "block3_bn_beta = pytorch_state_dict['block3.1.bias'].cpu().numpy()\n",
        "block3_bn_running_mean = pytorch_state_dict['block3.1.running_mean'].cpu().numpy()\n",
        "block3_bn_running_var = pytorch_state_dict['block3.1.running_var'].cpu().numpy()\n",
        "\n",
        "# Assign weights to the corresponding layer\n",
        "tf_model.block3.layers[1].set_weights([block3_bn_gamma, block3_bn_beta, block3_bn_running_mean, block3_bn_running_var])\n"
      ],
      "metadata": {
        "id": "DnPqFxPwbH-q"
      },
      "execution_count": 21,
      "outputs": []
    },
    {
      "cell_type": "code",
      "source": [
        "# block3 - second conv2d layer\n",
        "\n",
        "block3_conv2_weight = pytorch_state_dict['block3.3.weight'].cpu().numpy().transpose((2, 3, 1, 0))\n",
        "block3_conv2_bias = pytorch_state_dict['block3.3.bias'].cpu().numpy()\n",
        "\n",
        "# Assign weights to the corresponding layer\n",
        "tf_model.block3.layers[3].set_weights([block3_conv2_weight, block3_conv2_bias])\n"
      ],
      "metadata": {
        "id": "HHbJPrc6bLSg"
      },
      "execution_count": 22,
      "outputs": []
    },
    {
      "cell_type": "markdown",
      "source": [
        "MLP"
      ],
      "metadata": {
        "id": "8mvOfaBTcEWT"
      }
    },
    {
      "cell_type": "code",
      "source": [
        "# First Dense layer\n",
        "mlp_dense1_weight = pytorch_state_dict['mlp.0.weight'].cpu().numpy().transpose()\n",
        "mlp_dense1_bias = pytorch_state_dict['mlp.0.bias'].cpu().numpy()\n",
        "\n",
        "tf_model.mlp.layers[0].set_weights([mlp_dense1_weight, mlp_dense1_bias])\n"
      ],
      "metadata": {
        "id": "_4P4gHPobPak"
      },
      "execution_count": 23,
      "outputs": []
    },
    {
      "cell_type": "code",
      "source": [
        "# First BatchNorm layer\n",
        "mlp_bn1_gamma = pytorch_state_dict['mlp.1.weight'].cpu().numpy()\n",
        "mlp_bn1_beta = pytorch_state_dict['mlp.1.bias'].cpu().numpy()\n",
        "mlp_bn1_running_mean = pytorch_state_dict['mlp.1.running_mean'].cpu().numpy()\n",
        "mlp_bn1_running_var = pytorch_state_dict['mlp.1.running_var'].cpu().numpy()\n",
        "\n",
        "tf_model.mlp.layers[1].set_weights([mlp_bn1_gamma, mlp_bn1_beta, mlp_bn1_running_mean, mlp_bn1_running_var])\n"
      ],
      "metadata": {
        "id": "GU2RgNQ3cJwF"
      },
      "execution_count": 24,
      "outputs": []
    },
    {
      "cell_type": "code",
      "source": [
        "# Second Dense layer\n",
        "mlp_dense2_weight = pytorch_state_dict['mlp.3.weight'].cpu().numpy().transpose()\n",
        "mlp_dense2_bias = pytorch_state_dict['mlp.3.bias'].cpu().numpy()\n",
        "\n",
        "tf_model.mlp.layers[3].set_weights([mlp_dense2_weight, mlp_dense2_bias])\n"
      ],
      "metadata": {
        "id": "WBX7IWz9cJ5N"
      },
      "execution_count": 25,
      "outputs": []
    },
    {
      "cell_type": "code",
      "source": [
        "# Second BatchNorm layer\n",
        "mlp_bn2_gamma = pytorch_state_dict['mlp.6.weight'].cpu().numpy()\n",
        "mlp_bn2_beta = pytorch_state_dict['mlp.6.bias'].cpu().numpy()\n",
        "mlp_bn2_running_mean = pytorch_state_dict['mlp.6.running_mean'].cpu().numpy()\n",
        "mlp_bn2_running_var = pytorch_state_dict['mlp.6.running_var'].cpu().numpy()\n",
        "\n",
        "tf_model.mlp.layers[6].set_weights([mlp_bn2_gamma, mlp_bn2_beta, mlp_bn2_running_mean, mlp_bn2_running_var])\n"
      ],
      "metadata": {
        "id": "8SeXp2PncKMY"
      },
      "execution_count": 26,
      "outputs": []
    },
    {
      "cell_type": "code",
      "source": [
        "# Final Dense layer\n",
        "mlp_dense_final_weight = pytorch_state_dict['mlp.8.weight'].cpu().numpy().transpose()\n",
        "mlp_dense_final_bias = pytorch_state_dict['mlp.8.bias'].cpu().numpy()\n",
        "\n",
        "tf_model.mlp.layers[8].set_weights([mlp_dense_final_weight, mlp_dense_final_bias])\n"
      ],
      "metadata": {
        "id": "bTbLkLN6cKQ5"
      },
      "execution_count": 27,
      "outputs": []
    },
    {
      "cell_type": "code",
      "source": [
        "# Save tf model\n",
        "\n",
        "# Save the weights of the model\n",
        "tf_model.save_weights('tf_model_weights_300.h5')"
      ],
      "metadata": {
        "id": "XqRrm2DN2axN"
      },
      "execution_count": 29,
      "outputs": []
    },
    {
      "cell_type": "markdown",
      "source": [
        "## Check PyTorch vs TF weights"
      ],
      "metadata": {
        "id": "Vi0Nd2h2k9im"
      }
    },
    {
      "cell_type": "markdown",
      "source": [
        "Check Weight Formats"
      ],
      "metadata": {
        "id": "FX4J8EmfoBVp"
      }
    },
    {
      "cell_type": "code",
      "source": [
        "original_shape = pytorch_state_dict['block1.0.weight'].shape\n",
        "print(\"Original PyTorch shape:\", original_shape) #(out_channels, in_channels, height, width)"
      ],
      "metadata": {
        "colab": {
          "base_uri": "https://localhost:8080/"
        },
        "id": "a3eHxpzsoC1t",
        "outputId": "d6671c4d-bfe0-412f-b091-4595d97ff40f"
      },
      "execution_count": 74,
      "outputs": [
        {
          "output_type": "stream",
          "name": "stdout",
          "text": [
            "Original PyTorch shape: torch.Size([4, 32, 1, 1])\n"
          ]
        }
      ]
    },
    {
      "cell_type": "code",
      "source": [
        "# Transpose the weights\n",
        "block1_conv1_weight_transposed = pytorch_state_dict['block1.0.weight'].cpu().numpy().transpose((2, 3, 1, 0))\n",
        "\n",
        "# Check the transposed shape\n",
        "print(\"Transposed shape:\", block1_conv1_weight_transposed.shape) #(height, width, in_channels, out_channels)"
      ],
      "metadata": {
        "colab": {
          "base_uri": "https://localhost:8080/"
        },
        "id": "VL5GPdeeoIBF",
        "outputId": "4d164b28-aec9-4ee1-907b-8da5cd70e934"
      },
      "execution_count": 75,
      "outputs": [
        {
          "output_type": "stream",
          "name": "stdout",
          "text": [
            "Transposed shape: (1, 1, 32, 4)\n"
          ]
        }
      ]
    },
    {
      "cell_type": "markdown",
      "source": [
        "Visually Inspect the weights"
      ],
      "metadata": {
        "id": "lytnGk4mlZDt"
      }
    },
    {
      "cell_type": "code",
      "source": [
        "# The first convolutional layer's weights\n",
        "print(pytorch_model.conv1.weight.data.cpu().numpy()[0, 0, :, :])  # First filter of the first channel [first filter, first input channel, , ]\n"
      ],
      "metadata": {
        "colab": {
          "base_uri": "https://localhost:8080/"
        },
        "id": "CyVCg3MNcTaP",
        "outputId": "e5c0ecee-4a72-4559-b480-626713edcc00"
      },
      "execution_count": 76,
      "outputs": [
        {
          "output_type": "stream",
          "name": "stdout",
          "text": [
            "[[-0.08565165 -0.01641661  0.15382989]\n",
            " [ 0.11902591 -0.25500783  0.30215153]\n",
            " [-0.12986057 -0.2314675  -0.1209302 ]]\n"
          ]
        }
      ]
    },
    {
      "cell_type": "code",
      "source": [
        "# The corresponding layer's weights in Keras\n",
        "print(tf_model.conv1.get_weights()[0][:, :, 0, 0])  # First filter of the first channel [ , , first filter, first input channel]\n"
      ],
      "metadata": {
        "colab": {
          "base_uri": "https://localhost:8080/"
        },
        "id": "DsCNRWrDlD_2",
        "outputId": "0ba6413f-e8c6-4820-a024-ce5e05499b0a"
      },
      "execution_count": 78,
      "outputs": [
        {
          "output_type": "stream",
          "name": "stdout",
          "text": [
            "[[-0.08565165 -0.01641661  0.15382989]\n",
            " [ 0.11902591 -0.25500783  0.30215153]\n",
            " [-0.12986057 -0.2314675  -0.1209302 ]]\n"
          ]
        }
      ]
    },
    {
      "cell_type": "code",
      "source": [
        "print(pytorch_model.block1[0].weight.data.cpu().numpy()[0, 0, :, :])  # Block1 PyTorch"
      ],
      "metadata": {
        "colab": {
          "base_uri": "https://localhost:8080/"
        },
        "id": "70g4dDFQwOSR",
        "outputId": "d0109960-cdcc-4236-8e96-fc0418c04b73"
      },
      "execution_count": 81,
      "outputs": [
        {
          "output_type": "stream",
          "name": "stdout",
          "text": [
            "[[-0.0642695]]\n"
          ]
        }
      ]
    },
    {
      "cell_type": "code",
      "source": [
        "print(tf_model.block1.get_weights()[0][:, :, 0, 0])  # Block1 TF"
      ],
      "metadata": {
        "colab": {
          "base_uri": "https://localhost:8080/"
        },
        "id": "guZgJq5MwOAP",
        "outputId": "3cb351bd-7705-4e2f-abb8-700c54c6f7f5"
      },
      "execution_count": 84,
      "outputs": [
        {
          "output_type": "stream",
          "name": "stdout",
          "text": [
            "[[-0.0642695]]\n"
          ]
        }
      ]
    },
    {
      "cell_type": "code",
      "source": [
        "# # Accessing the first Dense layer's weights in PyTorch and printing the first row\n",
        "# print(pytorch_model.mlp[0].weight.data.cpu().numpy()[0, :])  # mlp.0.weight PyTorch\n",
        "\n",
        "# PyTorch: Getting the weights for the first dense layer\n",
        "weights_pytorch = pytorch_model.mlp[0].weight.data.cpu().numpy()\n",
        "\n",
        "# First and last 3 elements of the first row\n",
        "first_elements_pytorch = weights_pytorch[0, :3]  # First 3 elements\n",
        "last_elements_pytorch = weights_pytorch[0, -3:]  # Last 3 elements\n",
        "\n",
        "# Print concatenated\n",
        "print(\"PyTorch - First Dense layer:\", np.concatenate([first_elements_pytorch, last_elements_pytorch]))"
      ],
      "metadata": {
        "colab": {
          "base_uri": "https://localhost:8080/"
        },
        "id": "oYBOXxUaz0X8",
        "outputId": "0c59ed29-18e4-426e-fe8c-43cc97098798"
      },
      "execution_count": 126,
      "outputs": [
        {
          "output_type": "stream",
          "name": "stdout",
          "text": [
            "PyTorch - First Dense layer: [-0.01225404 -0.03560065 -0.01225035 -0.02751546  0.03630454 -0.02341032]\n"
          ]
        }
      ]
    },
    {
      "cell_type": "code",
      "source": [
        "# # Accessing the first Dense layer's weights in TensorFlow/Keras and printing the first row\n",
        "# print(tf_model.mlp.layers[0].get_weights()[0][:, 0])  # First Dense layer TF\n",
        "\n",
        "# TF: Getting the weights for the first dense layer\n",
        "weights_keras = tf_model.mlp.layers[0].get_weights()[0]\n",
        "\n",
        "# First and last 3 elements of the first column\n",
        "first_elements_keras = weights_keras[:3, 0]  # First 3 elements\n",
        "last_elements_keras = weights_keras[-3:, 0]  # Last 3 elements\n",
        "\n",
        "print(\"Keras - First Dense layer:\", np.concatenate([first_elements_keras, last_elements_keras]))\n"
      ],
      "metadata": {
        "colab": {
          "base_uri": "https://localhost:8080/"
        },
        "id": "KoDySTBRz0fi",
        "outputId": "f7c8a5da-ecf6-473d-a1bd-9226c546b785"
      },
      "execution_count": 127,
      "outputs": [
        {
          "output_type": "stream",
          "name": "stdout",
          "text": [
            "Keras - First Dense layer: [-0.01225404 -0.03560065 -0.01225035 -0.02751546  0.03630454 -0.02341032]\n"
          ]
        }
      ]
    },
    {
      "cell_type": "markdown",
      "source": [
        "Numerical Verification"
      ],
      "metadata": {
        "id": "tvdScAaHlXE3"
      }
    },
    {
      "cell_type": "code",
      "source": [
        "# Difference in weights of the first convolutional layer\n",
        "pytorch_weights = pytorch_model.block1[0].weight.data.cpu().numpy()[0, 0, :, :]\n",
        "keras_weights = tf_model.block1.get_weights()[0][:, :, 0, 0]\n",
        "\n",
        "print(pytorch_weights.shape)\n",
        "print(keras_weights.shape)"
      ],
      "metadata": {
        "colab": {
          "base_uri": "https://localhost:8080/"
        },
        "id": "d9DYErRdlP5N",
        "outputId": "59ef6846-eb28-41bb-ae86-8a4e3d2d33f2"
      },
      "execution_count": 94,
      "outputs": [
        {
          "output_type": "stream",
          "name": "stdout",
          "text": [
            "(1, 1)\n",
            "(1, 1)\n"
          ]
        }
      ]
    },
    {
      "cell_type": "code",
      "source": [
        "# Calculate the norm of the difference\n",
        "weight_diff = np.linalg.norm(pytorch_weights - keras_weights)\n",
        "print(\"Weight difference\", weight_diff)"
      ],
      "metadata": {
        "colab": {
          "base_uri": "https://localhost:8080/"
        },
        "id": "GoW3VoOSyU6I",
        "outputId": "378f11b7-7f27-4e46-815a-a7e0d798530f"
      },
      "execution_count": 128,
      "outputs": [
        {
          "output_type": "stream",
          "name": "stdout",
          "text": [
            "Weight difference 0.0\n"
          ]
        }
      ]
    },
    {
      "cell_type": "markdown",
      "source": [
        "Functional Verification"
      ],
      "metadata": {
        "id": "pgQyNFDGlc-B"
      }
    },
    {
      "cell_type": "code",
      "source": [
        "# Create a PyTorch tensor for input\n",
        "test_input_pytorch = torch.rand(1, 1, 11, 11)  # PyTorch: (batch_size, channels, height, width)\n",
        "\n",
        "# Convert PyTorch tensor to a NumPy array and adjust for TensorFlow/Keras ('channels last')\n",
        "test_input_keras = test_input_pytorch.permute(0, 2, 3, 1).numpy()  # TensorFlow/Keras: (batch_size, height, width, channels)"
      ],
      "metadata": {
        "id": "GRX4Ed1ulRyz"
      },
      "execution_count": 117,
      "outputs": []
    },
    {
      "cell_type": "code",
      "source": [
        "# PyTorch: Use the original tensor\n",
        "pytorch_model.eval()  # Ensure the model is in evaluation mode\n",
        "output_pytorch = pytorch_model(test_input_pytorch).detach().cpu().numpy()\n",
        "\n",
        "# TensorFlow/Keras: Use the adjusted NumPy array\n",
        "output_keras = tf_model.predict(test_input_keras)"
      ],
      "metadata": {
        "colab": {
          "base_uri": "https://localhost:8080/"
        },
        "id": "HvCREbUGmmsR",
        "outputId": "78b3b6a2-e9de-4e9a-ef88-f6defae84ec6"
      },
      "execution_count": 118,
      "outputs": [
        {
          "output_type": "stream",
          "name": "stdout",
          "text": [
            "1/1 [==============================] - 0s 24ms/step\n"
          ]
        }
      ]
    },
    {
      "cell_type": "code",
      "source": [
        "# Calculate the difference between outputs\n",
        "output_diff = np.linalg.norm(output_pytorch - output_keras)\n",
        "print(\"Output difference:\", output_diff)\n",
        "\n",
        "# This should be zero, right?"
      ],
      "metadata": {
        "colab": {
          "base_uri": "https://localhost:8080/"
        },
        "id": "7wZXWzhglg82",
        "outputId": "435f407a-587e-42c5-90ce-c1f606120b82"
      },
      "execution_count": 119,
      "outputs": [
        {
          "output_type": "stream",
          "name": "stdout",
          "text": [
            "Output difference: 0.95722353\n"
          ]
        }
      ]
    },
    {
      "cell_type": "markdown",
      "source": [
        "## Load in the Model and convert to hls4ml (very messy and not functioning at the moment, below)"
      ],
      "metadata": {
        "id": "6hYvuV0i3j_7"
      }
    },
    {
      "cell_type": "code",
      "source": [
        "from tensorflow.keras import layers, models\n",
        "\n",
        "def NAC_sequential():\n",
        "    model = models.Sequential()\n",
        "\n",
        "    model.add(layers.Conv2D(32, kernel_size=3, strides=1, padding='valid', input_shape=(11, 11, 1)))\n",
        "\n",
        "    model.add(layers.Conv2D(4, 1, strides=1, padding='valid'))\n",
        "    model.add(layers.ReLU())\n",
        "    model.add(layers.Conv2D(32, 1, strides=1, padding='valid'))\n",
        "    model.add(layers.BatchNormalization())\n",
        "    model.add(layers.LeakyReLU())\n",
        "\n",
        "    model.add(layers.Conv2D(4, 1, strides=1, padding='valid'))\n",
        "    model.add(layers.BatchNormalization())\n",
        "    model.add(layers.LeakyReLU())\n",
        "    model.add(layers.Conv2D(32, 3, strides=1, padding='valid'))\n",
        "    model.add(layers.BatchNormalization())\n",
        "    model.add(layers.LeakyReLU())\n",
        "\n",
        "    model.add(layers.Conv2D(8, 3, strides=1, padding='valid'))\n",
        "    model.add(layers.BatchNormalization())\n",
        "    model.add(layers.LeakyReLU())\n",
        "    model.add(layers.Conv2D(64, 3, strides=1, padding='valid'))\n",
        "\n",
        "    model.add(layers.Flatten())\n",
        "\n",
        "    model.add(layers.Dense(8))\n",
        "    model.add(layers.BatchNormalization())\n",
        "    model.add(layers.ReLU())\n",
        "    model.add(layers.Dense(4))\n",
        "    model.add(layers.LeakyReLU())\n",
        "    model.add(layers.Dense(4))\n",
        "    model.add(layers.BatchNormalization())\n",
        "    model.add(layers.LeakyReLU())\n",
        "    model.add(layers.Dense(2))\n",
        "\n",
        "    return model\n"
      ],
      "metadata": {
        "id": "04fk698vECLn"
      },
      "execution_count": 52,
      "outputs": []
    },
    {
      "cell_type": "code",
      "source": [
        "# Create an instance of the original NAC model\n",
        "original_model = NAC()\n",
        "\n",
        "original_model.build((None, 11, 11, 1))  # Input shape is (11, 11, 1)\n",
        "\n",
        "# Load weights into the original model\n",
        "original_model.load_weights('tf_model_weights_300.h5')\n",
        "\n",
        "# Extract weights from the original model\n",
        "weights = original_model.get_weights()\n",
        "\n",
        "# Define the refactored Sequential model\n",
        "refactored_model = NAC_sequential()\n",
        "\n",
        "# Set weights into the refactored model\n",
        "refactored_model.set_weights(weights)"
      ],
      "metadata": {
        "id": "sjAPwsJK3ntQ"
      },
      "execution_count": 57,
      "outputs": []
    },
    {
      "cell_type": "code",
      "source": [
        "#loaded_tf_model = NAC()"
      ],
      "metadata": {
        "id": "yP0RCE7V38bD"
      },
      "execution_count": 42,
      "outputs": []
    },
    {
      "cell_type": "code",
      "source": [
        "with tf.device('/CPU:0'):  # '/GPU:0' to use the GPU; '/CPU:0' to use the CPU\n",
        "    #loaded_tf_model = NAC()\n",
        "    refactored_model = NAC()"
      ],
      "metadata": {
        "id": "UUm88yZr4CSc"
      },
      "execution_count": 58,
      "outputs": []
    },
    {
      "cell_type": "code",
      "source": [
        "#tf_model.load_weights('tf_model_weights_300.h5')\n",
        "#refactored_model.load_weights('tf_model_weights_300.h5')"
      ],
      "metadata": {
        "colab": {
          "base_uri": "https://localhost:8080/",
          "height": 339
        },
        "id": "5TkgAZTNEQAr",
        "outputId": "1ac6b776-875e-40ab-822d-9f4297df9267"
      },
      "execution_count": 53,
      "outputs": [
        {
          "output_type": "error",
          "ename": "ValueError",
          "evalue": "Layer count mismatch when loading weights from file. Model expected 17 layers, found 5 saved layers.",
          "traceback": [
            "\u001b[0;31m---------------------------------------------------------------------------\u001b[0m",
            "\u001b[0;31mValueError\u001b[0m                                Traceback (most recent call last)",
            "\u001b[0;32m<ipython-input-53-fb5c27787073>\u001b[0m in \u001b[0;36m<cell line: 2>\u001b[0;34m()\u001b[0m\n\u001b[1;32m      1\u001b[0m \u001b[0;31m#tf_model.load_weights('tf_model_weights_300.h5')\u001b[0m\u001b[0;34m\u001b[0m\u001b[0;34m\u001b[0m\u001b[0m\n\u001b[0;32m----> 2\u001b[0;31m \u001b[0mrefactored_model\u001b[0m\u001b[0;34m.\u001b[0m\u001b[0mload_weights\u001b[0m\u001b[0;34m(\u001b[0m\u001b[0;34m'tf_model_weights_300.h5'\u001b[0m\u001b[0;34m)\u001b[0m\u001b[0;34m\u001b[0m\u001b[0;34m\u001b[0m\u001b[0m\n\u001b[0m",
            "\u001b[0;32m/usr/local/lib/python3.10/dist-packages/keras/src/utils/traceback_utils.py\u001b[0m in \u001b[0;36merror_handler\u001b[0;34m(*args, **kwargs)\u001b[0m\n\u001b[1;32m     68\u001b[0m             \u001b[0;31m# To get the full stack trace, call:\u001b[0m\u001b[0;34m\u001b[0m\u001b[0;34m\u001b[0m\u001b[0m\n\u001b[1;32m     69\u001b[0m             \u001b[0;31m# `tf.debugging.disable_traceback_filtering()`\u001b[0m\u001b[0;34m\u001b[0m\u001b[0;34m\u001b[0m\u001b[0m\n\u001b[0;32m---> 70\u001b[0;31m             \u001b[0;32mraise\u001b[0m \u001b[0me\u001b[0m\u001b[0;34m.\u001b[0m\u001b[0mwith_traceback\u001b[0m\u001b[0;34m(\u001b[0m\u001b[0mfiltered_tb\u001b[0m\u001b[0;34m)\u001b[0m \u001b[0;32mfrom\u001b[0m \u001b[0;32mNone\u001b[0m\u001b[0;34m\u001b[0m\u001b[0;34m\u001b[0m\u001b[0m\n\u001b[0m\u001b[1;32m     71\u001b[0m         \u001b[0;32mfinally\u001b[0m\u001b[0;34m:\u001b[0m\u001b[0;34m\u001b[0m\u001b[0;34m\u001b[0m\u001b[0m\n\u001b[1;32m     72\u001b[0m             \u001b[0;32mdel\u001b[0m \u001b[0mfiltered_tb\u001b[0m\u001b[0;34m\u001b[0m\u001b[0;34m\u001b[0m\u001b[0m\n",
            "\u001b[0;32m/usr/local/lib/python3.10/dist-packages/keras/src/saving/legacy/hdf5_format.py\u001b[0m in \u001b[0;36mload_weights_from_hdf5_group\u001b[0;34m(f, model)\u001b[0m\n\u001b[1;32m    817\u001b[0m     \u001b[0mlayer_names\u001b[0m \u001b[0;34m=\u001b[0m \u001b[0mfiltered_layer_names\u001b[0m\u001b[0;34m\u001b[0m\u001b[0;34m\u001b[0m\u001b[0m\n\u001b[1;32m    818\u001b[0m     \u001b[0;32mif\u001b[0m \u001b[0mlen\u001b[0m\u001b[0;34m(\u001b[0m\u001b[0mlayer_names\u001b[0m\u001b[0;34m)\u001b[0m \u001b[0;34m!=\u001b[0m \u001b[0mlen\u001b[0m\u001b[0;34m(\u001b[0m\u001b[0mfiltered_layers\u001b[0m\u001b[0;34m)\u001b[0m\u001b[0;34m:\u001b[0m\u001b[0;34m\u001b[0m\u001b[0;34m\u001b[0m\u001b[0m\n\u001b[0;32m--> 819\u001b[0;31m         raise ValueError(\n\u001b[0m\u001b[1;32m    820\u001b[0m             \u001b[0;34m\"Layer count mismatch when loading weights from file. \"\u001b[0m\u001b[0;34m\u001b[0m\u001b[0;34m\u001b[0m\u001b[0m\n\u001b[1;32m    821\u001b[0m             \u001b[0;34mf\"Model expected {len(filtered_layers)} layers, found \"\u001b[0m\u001b[0;34m\u001b[0m\u001b[0;34m\u001b[0m\u001b[0m\n",
            "\u001b[0;31mValueError\u001b[0m: Layer count mismatch when loading weights from file. Model expected 17 layers, found 5 saved layers."
          ]
        }
      ]
    },
    {
      "cell_type": "code",
      "source": [
        "# # Display the model's architecture\n",
        "# loaded_tf_model.build((None, 11, 11, 1))  # Input shape is (11, 11, 1)\n",
        "# loaded_tf_model.summary()"
      ],
      "metadata": {
        "colab": {
          "base_uri": "https://localhost:8080/"
        },
        "id": "BYJmvhSc4CXJ",
        "outputId": "e9c8e1cb-aaad-429c-c77e-5c8294a70d34"
      },
      "execution_count": 46,
      "outputs": [
        {
          "output_type": "stream",
          "name": "stdout",
          "text": [
            "Model: \"nac_4\"\n",
            "_________________________________________________________________\n",
            " Layer (type)                Output Shape              Param #   \n",
            "=================================================================\n",
            " conv2d_28 (Conv2D)          multiple                  320       \n",
            "                                                                 \n",
            " sequential_16 (Sequential)  (None, 9, 9, 32)          420       \n",
            "                                                                 \n",
            " sequential_17 (Sequential)  (None, 7, 7, 32)          1460      \n",
            "                                                                 \n",
            " sequential_18 (Sequential)  (None, 3, 3, 64)          7016      \n",
            "                                                                 \n",
            " flatten_4 (Flatten)         multiple                  0         \n",
            "                                                                 \n",
            " sequential_19 (Sequential)  (None, 2)                 4730      \n",
            "                                                                 \n",
            "=================================================================\n",
            "Total params: 13946 (54.48 KB)\n",
            "Trainable params: 13770 (53.79 KB)\n",
            "Non-trainable params: 176 (704.00 Byte)\n",
            "_________________________________________________________________\n"
          ]
        }
      ]
    },
    {
      "cell_type": "code",
      "source": [
        "loaded_tf_model.compile()"
      ],
      "metadata": {
        "id": "f9aurjq45vD2"
      },
      "execution_count": 37,
      "outputs": []
    },
    {
      "cell_type": "code",
      "source": [
        "!pip install hls4ml"
      ],
      "metadata": {
        "id": "RcuHZZbg5Msr"
      },
      "execution_count": null,
      "outputs": []
    },
    {
      "cell_type": "code",
      "source": [
        "import hls4ml"
      ],
      "metadata": {
        "id": "MjaOGuRj4Q8E"
      },
      "execution_count": 40,
      "outputs": []
    },
    {
      "cell_type": "code",
      "source": [
        "# Generate initial configuration\n",
        "config = hls4ml.utils.config_from_keras_model(refactored_model, granularity='model') # trying model that was made here (tf_model), instead of the loaded in one (loaded_tf_model)\n",
        "\n",
        "# Now, manually adjust the generated configuration\n",
        "# Since the granularity is set to 'model', these settings will apply model-wide\n",
        "\n",
        "# Set io_type to 'io_stream' for the entire model\n",
        "config['Model']['IOType'] = 'io_stream'\n",
        "\n",
        "# Set strategy to 'Resource' for the entire model\n",
        "config['Model']['Strategy'] = 'Resource'\n",
        "\n",
        "# Set reuse factor to 32 for the entire model\n",
        "config['Model']['ReuseFactor'] = 8 # changed from 32 to 8, crashed with 34\n",
        "\n",
        "# Print the modified configuration\n",
        "print(\"-----------------------------------\")\n",
        "print(\"Configuration\")\n",
        "print(config)  # Use print_dict(config) if you prefer a more structured output\n",
        "print(\"-----------------------------------\")\n",
        "\n",
        "# Convert the PyTorch model to HLS model with the specified configuration\n",
        "hls_model = hls4ml.converters.convert_from_keras_model(\n",
        "    refactored_model,\n",
        "    #input_shape=(1, 1, 11, 11), # PyTorch uses this, not tf\n",
        "    hls_config=config,\n",
        "    output_dir='synthesis_tf/hls4ml_prj',\n",
        "    part='xcu250-figd2104-2L-e'\n",
        ")"
      ],
      "metadata": {
        "colab": {
          "base_uri": "https://localhost:8080/",
          "height": 530
        },
        "id": "YYbqP_5L4XFP",
        "outputId": "1f1d93a4-924c-4c1f-dffc-e0a546eac4ba"
      },
      "execution_count": 60,
      "outputs": [
        {
          "output_type": "error",
          "ename": "TypeError",
          "evalue": "'NoneType' object is not iterable",
          "traceback": [
            "\u001b[0;31m---------------------------------------------------------------------------\u001b[0m",
            "\u001b[0;31mTypeError\u001b[0m                                 Traceback (most recent call last)",
            "\u001b[0;32m<ipython-input-60-71f2d286bc2d>\u001b[0m in \u001b[0;36m<cell line: 2>\u001b[0;34m()\u001b[0m\n\u001b[1;32m      1\u001b[0m \u001b[0;31m# Generate initial configuration\u001b[0m\u001b[0;34m\u001b[0m\u001b[0;34m\u001b[0m\u001b[0m\n\u001b[0;32m----> 2\u001b[0;31m \u001b[0mconfig\u001b[0m \u001b[0;34m=\u001b[0m \u001b[0mhls4ml\u001b[0m\u001b[0;34m.\u001b[0m\u001b[0mutils\u001b[0m\u001b[0;34m.\u001b[0m\u001b[0mconfig_from_keras_model\u001b[0m\u001b[0;34m(\u001b[0m\u001b[0mrefactored_model\u001b[0m\u001b[0;34m,\u001b[0m \u001b[0mgranularity\u001b[0m\u001b[0;34m=\u001b[0m\u001b[0;34m'model'\u001b[0m\u001b[0;34m)\u001b[0m \u001b[0;31m# trying model that was made here (tf_model), instead of the loaded in one (loaded_tf_model)\u001b[0m\u001b[0;34m\u001b[0m\u001b[0;34m\u001b[0m\u001b[0m\n\u001b[0m\u001b[1;32m      3\u001b[0m \u001b[0;34m\u001b[0m\u001b[0m\n\u001b[1;32m      4\u001b[0m \u001b[0;31m# Now, manually adjust the generated configuration\u001b[0m\u001b[0;34m\u001b[0m\u001b[0;34m\u001b[0m\u001b[0m\n\u001b[1;32m      5\u001b[0m \u001b[0;31m# Since the granularity is set to 'model', these settings will apply model-wide\u001b[0m\u001b[0;34m\u001b[0m\u001b[0;34m\u001b[0m\u001b[0m\n",
            "\u001b[0;32m/usr/local/lib/python3.10/dist-packages/hls4ml/utils/config.py\u001b[0m in \u001b[0;36mconfig_from_keras_model\u001b[0;34m(model, granularity, backend, default_precision, default_reuse_factor)\u001b[0m\n\u001b[1;32m    157\u001b[0m     \u001b[0mreader\u001b[0m \u001b[0;34m=\u001b[0m \u001b[0mhls4ml\u001b[0m\u001b[0;34m.\u001b[0m\u001b[0mconverters\u001b[0m\u001b[0;34m.\u001b[0m\u001b[0mKerasModelReader\u001b[0m\u001b[0;34m(\u001b[0m\u001b[0mmodel\u001b[0m\u001b[0;34m)\u001b[0m\u001b[0;34m\u001b[0m\u001b[0;34m\u001b[0m\u001b[0m\n\u001b[1;32m    158\u001b[0m \u001b[0;34m\u001b[0m\u001b[0m\n\u001b[0;32m--> 159\u001b[0;31m     \u001b[0mlayer_list\u001b[0m\u001b[0;34m,\u001b[0m \u001b[0m_\u001b[0m\u001b[0;34m,\u001b[0m \u001b[0m_\u001b[0m\u001b[0;34m,\u001b[0m \u001b[0m_\u001b[0m \u001b[0;34m=\u001b[0m \u001b[0mhls4ml\u001b[0m\u001b[0;34m.\u001b[0m\u001b[0mconverters\u001b[0m\u001b[0;34m.\u001b[0m\u001b[0mparse_keras_model\u001b[0m\u001b[0;34m(\u001b[0m\u001b[0mmodel_arch\u001b[0m\u001b[0;34m,\u001b[0m \u001b[0mreader\u001b[0m\u001b[0;34m)\u001b[0m\u001b[0;34m\u001b[0m\u001b[0;34m\u001b[0m\u001b[0m\n\u001b[0m\u001b[1;32m    160\u001b[0m \u001b[0;34m\u001b[0m\u001b[0m\n\u001b[1;32m    161\u001b[0m     \u001b[0;32mdef\u001b[0m \u001b[0mmake_layer_config\u001b[0m\u001b[0;34m(\u001b[0m\u001b[0mlayer\u001b[0m\u001b[0;34m)\u001b[0m\u001b[0;34m:\u001b[0m\u001b[0;34m\u001b[0m\u001b[0;34m\u001b[0m\u001b[0m\n",
            "\u001b[0;32m/usr/local/lib/python3.10/dist-packages/hls4ml/converters/keras_to_hls.py\u001b[0m in \u001b[0;36mparse_keras_model\u001b[0;34m(model_arch, reader)\u001b[0m\n\u001b[1;32m    242\u001b[0m \u001b[0;34m\u001b[0m\u001b[0m\n\u001b[1;32m    243\u001b[0m     \u001b[0;31m# Get input shape and check for unsupported layer type\u001b[0m\u001b[0;34m\u001b[0m\u001b[0;34m\u001b[0m\u001b[0m\n\u001b[0;32m--> 244\u001b[0;31m     \u001b[0;32mfor\u001b[0m \u001b[0mkeras_layer\u001b[0m \u001b[0;32min\u001b[0m \u001b[0mlayer_config\u001b[0m\u001b[0;34m:\u001b[0m\u001b[0;34m\u001b[0m\u001b[0;34m\u001b[0m\u001b[0m\n\u001b[0m\u001b[1;32m    245\u001b[0m         \u001b[0;32mif\u001b[0m \u001b[0mkeras_layer\u001b[0m\u001b[0;34m[\u001b[0m\u001b[0;34m'class_name'\u001b[0m\u001b[0;34m]\u001b[0m \u001b[0;32mnot\u001b[0m \u001b[0;32min\u001b[0m \u001b[0msupported_layers\u001b[0m\u001b[0;34m:\u001b[0m\u001b[0;34m\u001b[0m\u001b[0;34m\u001b[0m\u001b[0m\n\u001b[1;32m    246\u001b[0m             \u001b[0;32mraise\u001b[0m \u001b[0mException\u001b[0m\u001b[0;34m(\u001b[0m\u001b[0;34m'ERROR: Unsupported layer type: {}'\u001b[0m\u001b[0;34m.\u001b[0m\u001b[0mformat\u001b[0m\u001b[0;34m(\u001b[0m\u001b[0mkeras_layer\u001b[0m\u001b[0;34m[\u001b[0m\u001b[0;34m'class_name'\u001b[0m\u001b[0;34m]\u001b[0m\u001b[0;34m)\u001b[0m\u001b[0;34m)\u001b[0m\u001b[0;34m\u001b[0m\u001b[0;34m\u001b[0m\u001b[0m\n",
            "\u001b[0;31mTypeError\u001b[0m: 'NoneType' object is not iterable"
          ]
        }
      ]
    },
    {
      "cell_type": "code",
      "source": [
        "hls4ml.utils.plot_model(hls_model, show_shapes=True, show_precision=True, to_file=None)"
      ],
      "metadata": {
        "id": "023cdeKFBMD7"
      },
      "execution_count": null,
      "outputs": []
    },
    {
      "cell_type": "code",
      "source": [
        "hls_model.compile()"
      ],
      "metadata": {
        "id": "O2MzUrV0BTcj"
      },
      "execution_count": null,
      "outputs": []
    },
    {
      "cell_type": "code",
      "source": [
        "# run to save the compiled hls model\n",
        "hls_model.write()"
      ],
      "metadata": {
        "id": "jkcK5g8QBScp"
      },
      "execution_count": null,
      "outputs": []
    },
    {
      "cell_type": "markdown",
      "source": [
        "Convert the above into a .py and run on mulder\n",
        "- have the saved model file\n",
        "- define the tf model\n",
        "- load in the tf saved model\n",
        "- convert to hls (io_stream, resource, reuse=8)\n",
        "- hls_model.build(csim=False)\n",
        "- hls4ml.report.read_vivado_report('synthesis_tf/hls4ml_prj')"
      ],
      "metadata": {
        "id": "ICZ9UBLyBl_M"
      }
    },
    {
      "cell_type": "markdown",
      "source": [
        "# Ignore the below"
      ],
      "metadata": {
        "id": "cfXlXUp1BZKG"
      }
    },
    {
      "cell_type": "markdown",
      "source": [
        "## Check Performance"
      ],
      "metadata": {
        "id": "rV5ntgxjjOKl"
      }
    },
    {
      "cell_type": "code",
      "source": [
        "def train_model(model, optimizer, scheduler, criterion, train_loader, valid_loader, device, num_epochs, patience=5):\n",
        "    curr_patience = patience\n",
        "    previous_epoch_loss = float('inf')\n",
        "\n",
        "    for epoch in range(num_epochs):\n",
        "        # Training phase\n",
        "        model.train()\n",
        "        train_loss = 0\n",
        "        for batch in train_loader:\n",
        "            inputs, targets = batch\n",
        "            inputs, targets = inputs.to(device), targets.to(device)\n",
        "\n",
        "            optimizer.zero_grad()\n",
        "            outputs = model(inputs)\n",
        "            loss = criterion(outputs, targets)\n",
        "            loss.backward()\n",
        "            optimizer.step()\n",
        "\n",
        "            train_loss += loss.item()\n",
        "\n",
        "        train_loss /= len(train_loader)\n",
        "\n",
        "        # Validation phase\n",
        "        model.eval()\n",
        "        validation_loss = 0\n",
        "        with torch.no_grad():\n",
        "            for batch in valid_loader:\n",
        "                inputs, targets = batch\n",
        "                inputs, targets = inputs.to(device), targets.to(device)\n",
        "\n",
        "                outputs = model(inputs)\n",
        "                loss = criterion(outputs, targets)\n",
        "                validation_loss += loss.item()\n",
        "\n",
        "        validation_loss /= len(valid_loader)\n",
        "\n",
        "        # Print losses\n",
        "        print(f\"Epoch {epoch+1}/{num_epochs} - Training Loss: {train_loss:.4f}, Validation Loss: {validation_loss:.4f}\")\n",
        "\n",
        "        if scheduler:\n",
        "            scheduler.step()\n",
        "\n",
        "        if validation_loss < previous_epoch_loss:\n",
        "            curr_patience=patience\n",
        "        else:\n",
        "            curr_patience -= 1\n",
        "            if curr_patience <= 0: break\n",
        "        previous_epoch_loss = validation_loss\n",
        "\n",
        "    return previous_epoch_loss\n",
        "\n",
        "\n",
        "def get_performance(model, dataloader, device, psz=11):\n",
        "    distances = []\n",
        "    with torch.no_grad():\n",
        "        for features, true_locs in dataloader:\n",
        "            features = features.to(device)\n",
        "            #print(features.shape) # added to check\n",
        "            preds = model(features)  # assuming model outputs normalized [px, py]\n",
        "            #print(preds.shape) # added to check\n",
        "            preds = preds.view(-1, 2) # added to check\n",
        "            preds = preds.cpu().numpy()\n",
        "\n",
        "            # Calculate Euclidean distance\n",
        "            distance = np.sqrt(np.sum((preds - true_locs.numpy()) ** 2, axis=1)) * 11 # psz=11\n",
        "            distances.extend(distance)  # Changed from append to extend\n",
        "\n",
        "    mean_distance = np.mean(distances)\n",
        "    return mean_distance\n",
        "\n",
        "def get_param_count(model):\n",
        "    count = 0\n",
        "    # Add parameters from conv1\n",
        "    count += sum(p.numel() for p in model.conv1.parameters())\n",
        "    # Add parameters from each block\n",
        "    count += sum(p.numel() for p in model.block1.parameters())\n",
        "    count += sum(p.numel() for p in model.block2.parameters())\n",
        "    count += sum(p.numel() for p in model.block3.parameters())\n",
        "    # Add parameters from the MLP\n",
        "    count += sum(p.numel() for p in model.mlp.parameters())\n",
        "\n",
        "    # Print the architecture components\n",
        "    print('Architecture components:', model.conv1, model.block1, model.block2, model.block3, model.mlp)\n",
        "    return count\n",
        "\n",
        "def get_inference_time(model,device):\n",
        "    #inference time\n",
        "    x = torch.randn((256,1,11,11)).to(device)\n",
        "    start = time.time()\n",
        "    for _ in range(100):\n",
        "        y = model(x)\n",
        "    end = time.time()\n",
        "    return end-start\n",
        "\n",
        "def evaluate(model):\n",
        "    num_epochs = 300\n",
        "    device = torch.device(\"cuda\" if torch.cuda.is_available() else \"cpu\") # changed this\n",
        "    model = model.to(device)\n",
        "\n",
        "    criterion = torch.nn.MSELoss()\n",
        "    optimizer = torch.optim.Adam(model.parameters(), lr=3e-4)\n",
        "    scheduler = torch.optim.lr_scheduler.CosineAnnealingLR(optimizer, T_max=num_epochs)\n",
        "    validation_loss = train_model(model, optimizer, scheduler, criterion, train_loader, val_loader, device, num_epochs)\n",
        "\n",
        "    #Evaluate Performance\n",
        "    mean_distance = get_performance(model, test_loader, device)\n",
        "    #Evaluate Efficiency\n",
        "    param_count = get_param_count(model)\n",
        "    inference_time = get_inference_time(model, device)\n",
        "\n",
        "    print('Mean Distance: ', mean_distance, ', Inference time: ', inference_time, ', Validation Loss: ', validation_loss, ', Param Count: ', param_count)\n",
        "    return mean_distance, inference_time, validation_loss, param_count\n",
        "\n",
        "def setup_data_loaders(batch_size, IMG_SIZE, aug=0, num_workers=4, pin_memory=False, prefetch_factor=2 ):\n",
        "    ds_train= BraggNNDataset(psz=IMG_SIZE, rnd_shift=aug, use='train')\n",
        "    dl_train = DataLoader(ds_train, batch_size=batch_size, shuffle=True, num_workers=num_workers, prefetch_factor=prefetch_factor, drop_last=True, pin_memory=pin_memory)\n",
        "    #TODO: Change prefetch_factor back to 2 and pin_memory to true\n",
        "\n",
        "    ds_valid = BraggNNDataset(psz=IMG_SIZE, rnd_shift=0, use='validation')\n",
        "    dl_valid = DataLoader(ds_valid, batch_size=batch_size, shuffle=False, num_workers=num_workers, prefetch_factor=prefetch_factor, drop_last=False, pin_memory=pin_memory)\n",
        "\n",
        "    ds_test = BraggNNDataset(psz=IMG_SIZE, rnd_shift=0, use='test')\n",
        "    dl_test = DataLoader(ds_test, batch_size=batch_size, shuffle=False, num_workers=num_workers, prefetch_factor=prefetch_factor, drop_last=False, pin_memory=pin_memory)\n",
        "\n",
        "    return dl_train, dl_valid, dl_test"
      ],
      "metadata": {
        "id": "ZzoGLhbxaSP_"
      },
      "execution_count": null,
      "outputs": []
    },
    {
      "cell_type": "code",
      "source": [
        "train_loader, val_loader, test_loader = setup_data_loaders(2048, 11)"
      ],
      "metadata": {
        "id": "c0nHGsTchAuX"
      },
      "execution_count": null,
      "outputs": []
    },
    {
      "cell_type": "code",
      "source": [
        "# need to retrain with the new layers, etc.\n",
        "\n",
        "mean_distance, inference_time, validation_loss, param_count = evaluate(model) # to train, validate, test\n"
      ],
      "metadata": {
        "colab": {
          "base_uri": "https://localhost:8080/"
        },
        "id": "fC4eAE6DdsUL",
        "outputId": "bc2153e5-c49b-46d1-b34c-cc7d59e9e639"
      },
      "execution_count": null,
      "outputs": [
        {
          "output_type": "stream",
          "name": "stdout",
          "text": [
            "Epoch 1/300 - Training Loss: 0.9108, Validation Loss: 0.4217\n",
            "Epoch 2/300 - Training Loss: 0.7416, Validation Loss: 0.4466\n",
            "Epoch 3/300 - Training Loss: 0.6556, Validation Loss: 0.4566\n",
            "Epoch 4/300 - Training Loss: 0.6035, Validation Loss: 0.5374\n",
            "Epoch 5/300 - Training Loss: 0.5488, Validation Loss: 0.5658\n",
            "Epoch 6/300 - Training Loss: 0.4953, Validation Loss: 0.4672\n",
            "Epoch 7/300 - Training Loss: 0.4558, Validation Loss: 0.4511\n",
            "Epoch 8/300 - Training Loss: 0.4276, Validation Loss: 0.4065\n",
            "Epoch 9/300 - Training Loss: 0.4059, Validation Loss: 0.3934\n",
            "Epoch 10/300 - Training Loss: 0.3885, Validation Loss: 0.3926\n",
            "Epoch 11/300 - Training Loss: 0.3715, Validation Loss: 0.3685\n",
            "Epoch 12/300 - Training Loss: 0.3549, Validation Loss: 0.3462\n",
            "Epoch 13/300 - Training Loss: 0.3400, Validation Loss: 0.3273\n",
            "Epoch 14/300 - Training Loss: 0.3272, Validation Loss: 0.3213\n",
            "Epoch 15/300 - Training Loss: 0.3153, Validation Loss: 0.3110\n",
            "Epoch 16/300 - Training Loss: 0.3047, Validation Loss: 0.2963\n",
            "Epoch 17/300 - Training Loss: 0.2925, Validation Loss: 0.2867\n",
            "Epoch 18/300 - Training Loss: 0.2810, Validation Loss: 0.2831\n",
            "Epoch 19/300 - Training Loss: 0.2704, Validation Loss: 0.2627\n",
            "Epoch 20/300 - Training Loss: 0.2600, Validation Loss: 0.2529\n",
            "Epoch 21/300 - Training Loss: 0.2513, Validation Loss: 0.2493\n",
            "Epoch 22/300 - Training Loss: 0.2428, Validation Loss: 0.2397\n",
            "Epoch 23/300 - Training Loss: 0.2343, Validation Loss: 0.2289\n",
            "Epoch 24/300 - Training Loss: 0.2263, Validation Loss: 0.2201\n",
            "Epoch 25/300 - Training Loss: 0.2182, Validation Loss: 0.2152\n",
            "Epoch 26/300 - Training Loss: 0.2105, Validation Loss: 0.2054\n",
            "Epoch 27/300 - Training Loss: 0.2030, Validation Loss: 0.1984\n",
            "Epoch 28/300 - Training Loss: 0.1958, Validation Loss: 0.1912\n",
            "Epoch 29/300 - Training Loss: 0.1887, Validation Loss: 0.1827\n",
            "Epoch 30/300 - Training Loss: 0.1808, Validation Loss: 0.1761\n",
            "Epoch 31/300 - Training Loss: 0.1739, Validation Loss: 0.1715\n",
            "Epoch 32/300 - Training Loss: 0.1660, Validation Loss: 0.1610\n",
            "Epoch 33/300 - Training Loss: 0.1585, Validation Loss: 0.1521\n",
            "Epoch 34/300 - Training Loss: 0.1513, Validation Loss: 0.1459\n",
            "Epoch 35/300 - Training Loss: 0.1445, Validation Loss: 0.1389\n",
            "Epoch 36/300 - Training Loss: 0.1375, Validation Loss: 0.1336\n",
            "Epoch 37/300 - Training Loss: 0.1308, Validation Loss: 0.1226\n",
            "Epoch 38/300 - Training Loss: 0.1241, Validation Loss: 0.1174\n",
            "Epoch 39/300 - Training Loss: 0.1173, Validation Loss: 0.1106\n",
            "Epoch 40/300 - Training Loss: 0.1108, Validation Loss: 0.1035\n",
            "Epoch 41/300 - Training Loss: 0.1046, Validation Loss: 0.0977\n",
            "Epoch 42/300 - Training Loss: 0.0985, Validation Loss: 0.0919\n",
            "Epoch 43/300 - Training Loss: 0.0922, Validation Loss: 0.0866\n",
            "Epoch 44/300 - Training Loss: 0.0861, Validation Loss: 0.0824\n",
            "Epoch 45/300 - Training Loss: 0.0809, Validation Loss: 0.0738\n",
            "Epoch 46/300 - Training Loss: 0.0753, Validation Loss: 0.0681\n",
            "Epoch 47/300 - Training Loss: 0.0700, Validation Loss: 0.0653\n",
            "Epoch 48/300 - Training Loss: 0.0648, Validation Loss: 0.0595\n",
            "Epoch 49/300 - Training Loss: 0.0600, Validation Loss: 0.0548\n",
            "Epoch 50/300 - Training Loss: 0.0554, Validation Loss: 0.0514\n",
            "Epoch 51/300 - Training Loss: 0.0513, Validation Loss: 0.0492\n",
            "Epoch 52/300 - Training Loss: 0.0473, Validation Loss: 0.0432\n",
            "Epoch 53/300 - Training Loss: 0.0435, Validation Loss: 0.0403\n",
            "Epoch 54/300 - Training Loss: 0.0399, Validation Loss: 0.0364\n",
            "Epoch 55/300 - Training Loss: 0.0363, Validation Loss: 0.0323\n",
            "Epoch 56/300 - Training Loss: 0.0332, Validation Loss: 0.0304\n",
            "Epoch 57/300 - Training Loss: 0.0304, Validation Loss: 0.0276\n",
            "Epoch 58/300 - Training Loss: 0.0274, Validation Loss: 0.0250\n",
            "Epoch 59/300 - Training Loss: 0.0248, Validation Loss: 0.0227\n",
            "Epoch 60/300 - Training Loss: 0.0223, Validation Loss: 0.0208\n",
            "Epoch 61/300 - Training Loss: 0.0200, Validation Loss: 0.0184\n",
            "Epoch 62/300 - Training Loss: 0.0180, Validation Loss: 0.0162\n",
            "Epoch 63/300 - Training Loss: 0.0164, Validation Loss: 0.0150\n",
            "Epoch 64/300 - Training Loss: 0.0146, Validation Loss: 0.0133\n",
            "Epoch 65/300 - Training Loss: 0.0131, Validation Loss: 0.0118\n",
            "Epoch 66/300 - Training Loss: 0.0117, Validation Loss: 0.0106\n",
            "Epoch 67/300 - Training Loss: 0.0105, Validation Loss: 0.0095\n",
            "Epoch 68/300 - Training Loss: 0.0094, Validation Loss: 0.0085\n",
            "Epoch 69/300 - Training Loss: 0.0086, Validation Loss: 0.0078\n",
            "Epoch 70/300 - Training Loss: 0.0077, Validation Loss: 0.0068\n",
            "Epoch 71/300 - Training Loss: 0.0068, Validation Loss: 0.0064\n",
            "Epoch 72/300 - Training Loss: 0.0062, Validation Loss: 0.0059\n",
            "Epoch 73/300 - Training Loss: 0.0056, Validation Loss: 0.0050\n",
            "Epoch 74/300 - Training Loss: 0.0051, Validation Loss: 0.0046\n",
            "Epoch 75/300 - Training Loss: 0.0046, Validation Loss: 0.0042\n",
            "Epoch 76/300 - Training Loss: 0.0042, Validation Loss: 0.0041\n",
            "Epoch 77/300 - Training Loss: 0.0041, Validation Loss: 0.0037\n",
            "Epoch 78/300 - Training Loss: 0.0038, Validation Loss: 0.0035\n",
            "Epoch 79/300 - Training Loss: 0.0035, Validation Loss: 0.0032\n",
            "Epoch 80/300 - Training Loss: 0.0032, Validation Loss: 0.0030\n",
            "Epoch 81/300 - Training Loss: 0.0030, Validation Loss: 0.0028\n",
            "Epoch 82/300 - Training Loss: 0.0029, Validation Loss: 0.0028\n",
            "Epoch 83/300 - Training Loss: 0.0028, Validation Loss: 0.0027\n",
            "Epoch 84/300 - Training Loss: 0.0026, Validation Loss: 0.0025\n",
            "Epoch 85/300 - Training Loss: 0.0025, Validation Loss: 0.0024\n",
            "Epoch 86/300 - Training Loss: 0.0025, Validation Loss: 0.0023\n",
            "Epoch 87/300 - Training Loss: 0.0024, Validation Loss: 0.0023\n",
            "Epoch 88/300 - Training Loss: 0.0024, Validation Loss: 0.0023\n",
            "Epoch 89/300 - Training Loss: 0.0023, Validation Loss: 0.0022\n",
            "Epoch 90/300 - Training Loss: 0.0023, Validation Loss: 0.0023\n",
            "Epoch 91/300 - Training Loss: 0.0023, Validation Loss: 0.0022\n",
            "Epoch 92/300 - Training Loss: 0.0022, Validation Loss: 0.0021\n",
            "Epoch 93/300 - Training Loss: 0.0022, Validation Loss: 0.0020\n",
            "Epoch 94/300 - Training Loss: 0.0021, Validation Loss: 0.0020\n",
            "Epoch 95/300 - Training Loss: 0.0021, Validation Loss: 0.0020\n",
            "Epoch 96/300 - Training Loss: 0.0021, Validation Loss: 0.0019\n",
            "Epoch 97/300 - Training Loss: 0.0020, Validation Loss: 0.0020\n",
            "Epoch 98/300 - Training Loss: 0.0020, Validation Loss: 0.0019\n",
            "Epoch 99/300 - Training Loss: 0.0020, Validation Loss: 0.0020\n",
            "Epoch 100/300 - Training Loss: 0.0020, Validation Loss: 0.0019\n",
            "Epoch 101/300 - Training Loss: 0.0019, Validation Loss: 0.0019\n",
            "Epoch 102/300 - Training Loss: 0.0019, Validation Loss: 0.0018\n",
            "Epoch 103/300 - Training Loss: 0.0019, Validation Loss: 0.0018\n",
            "Epoch 104/300 - Training Loss: 0.0019, Validation Loss: 0.0019\n",
            "Epoch 105/300 - Training Loss: 0.0019, Validation Loss: 0.0018\n",
            "Epoch 106/300 - Training Loss: 0.0019, Validation Loss: 0.0018\n",
            "Epoch 107/300 - Training Loss: 0.0019, Validation Loss: 0.0018\n",
            "Epoch 108/300 - Training Loss: 0.0018, Validation Loss: 0.0018\n",
            "Epoch 109/300 - Training Loss: 0.0019, Validation Loss: 0.0019\n",
            "Epoch 110/300 - Training Loss: 0.0018, Validation Loss: 0.0018\n",
            "Epoch 111/300 - Training Loss: 0.0018, Validation Loss: 0.0018\n",
            "Epoch 112/300 - Training Loss: 0.0018, Validation Loss: 0.0017\n",
            "Epoch 113/300 - Training Loss: 0.0018, Validation Loss: 0.0018\n",
            "Epoch 114/300 - Training Loss: 0.0018, Validation Loss: 0.0017\n",
            "Epoch 115/300 - Training Loss: 0.0018, Validation Loss: 0.0016\n",
            "Epoch 116/300 - Training Loss: 0.0018, Validation Loss: 0.0018\n",
            "Epoch 117/300 - Training Loss: 0.0018, Validation Loss: 0.0016\n",
            "Epoch 118/300 - Training Loss: 0.0017, Validation Loss: 0.0016\n",
            "Epoch 119/300 - Training Loss: 0.0018, Validation Loss: 0.0016\n",
            "Epoch 120/300 - Training Loss: 0.0018, Validation Loss: 0.0016\n",
            "Epoch 121/300 - Training Loss: 0.0017, Validation Loss: 0.0016\n",
            "Epoch 122/300 - Training Loss: 0.0017, Validation Loss: 0.0016\n",
            "Epoch 123/300 - Training Loss: 0.0017, Validation Loss: 0.0016\n",
            "Epoch 124/300 - Training Loss: 0.0017, Validation Loss: 0.0016\n",
            "Epoch 125/300 - Training Loss: 0.0017, Validation Loss: 0.0018\n",
            "Epoch 126/300 - Training Loss: 0.0017, Validation Loss: 0.0016\n",
            "Epoch 127/300 - Training Loss: 0.0017, Validation Loss: 0.0015\n",
            "Epoch 128/300 - Training Loss: 0.0016, Validation Loss: 0.0015\n",
            "Epoch 129/300 - Training Loss: 0.0016, Validation Loss: 0.0017\n",
            "Epoch 130/300 - Training Loss: 0.0017, Validation Loss: 0.0015\n",
            "Epoch 131/300 - Training Loss: 0.0016, Validation Loss: 0.0015\n",
            "Epoch 132/300 - Training Loss: 0.0016, Validation Loss: 0.0015\n",
            "Epoch 133/300 - Training Loss: 0.0016, Validation Loss: 0.0016\n",
            "Epoch 134/300 - Training Loss: 0.0016, Validation Loss: 0.0016\n",
            "Epoch 135/300 - Training Loss: 0.0016, Validation Loss: 0.0015\n",
            "Epoch 136/300 - Training Loss: 0.0016, Validation Loss: 0.0015\n",
            "Epoch 137/300 - Training Loss: 0.0016, Validation Loss: 0.0015\n",
            "Epoch 138/300 - Training Loss: 0.0016, Validation Loss: 0.0015\n",
            "Epoch 139/300 - Training Loss: 0.0015, Validation Loss: 0.0015\n",
            "Epoch 140/300 - Training Loss: 0.0015, Validation Loss: 0.0014\n",
            "Epoch 141/300 - Training Loss: 0.0015, Validation Loss: 0.0014\n",
            "Epoch 142/300 - Training Loss: 0.0015, Validation Loss: 0.0015\n",
            "Epoch 143/300 - Training Loss: 0.0015, Validation Loss: 0.0015\n",
            "Epoch 144/300 - Training Loss: 0.0015, Validation Loss: 0.0014\n",
            "Epoch 145/300 - Training Loss: 0.0015, Validation Loss: 0.0015\n",
            "Epoch 146/300 - Training Loss: 0.0015, Validation Loss: 0.0014\n",
            "Epoch 147/300 - Training Loss: 0.0015, Validation Loss: 0.0014\n",
            "Epoch 148/300 - Training Loss: 0.0015, Validation Loss: 0.0014\n",
            "Epoch 149/300 - Training Loss: 0.0014, Validation Loss: 0.0014\n",
            "Epoch 150/300 - Training Loss: 0.0014, Validation Loss: 0.0014\n",
            "Epoch 151/300 - Training Loss: 0.0015, Validation Loss: 0.0014\n",
            "Epoch 152/300 - Training Loss: 0.0014, Validation Loss: 0.0014\n",
            "Epoch 153/300 - Training Loss: 0.0015, Validation Loss: 0.0013\n",
            "Epoch 154/300 - Training Loss: 0.0014, Validation Loss: 0.0014\n",
            "Epoch 155/300 - Training Loss: 0.0014, Validation Loss: 0.0014\n",
            "Epoch 156/300 - Training Loss: 0.0014, Validation Loss: 0.0013\n",
            "Epoch 157/300 - Training Loss: 0.0014, Validation Loss: 0.0013\n",
            "Epoch 158/300 - Training Loss: 0.0014, Validation Loss: 0.0013\n",
            "Epoch 159/300 - Training Loss: 0.0014, Validation Loss: 0.0013\n",
            "Epoch 160/300 - Training Loss: 0.0014, Validation Loss: 0.0013\n",
            "Epoch 161/300 - Training Loss: 0.0013, Validation Loss: 0.0013\n",
            "Epoch 162/300 - Training Loss: 0.0013, Validation Loss: 0.0013\n",
            "Epoch 163/300 - Training Loss: 0.0014, Validation Loss: 0.0013\n",
            "Epoch 164/300 - Training Loss: 0.0014, Validation Loss: 0.0013\n",
            "Epoch 165/300 - Training Loss: 0.0013, Validation Loss: 0.0013\n",
            "Epoch 166/300 - Training Loss: 0.0013, Validation Loss: 0.0013\n",
            "Epoch 167/300 - Training Loss: 0.0013, Validation Loss: 0.0013\n",
            "Epoch 168/300 - Training Loss: 0.0014, Validation Loss: 0.0013\n",
            "Epoch 169/300 - Training Loss: 0.0014, Validation Loss: 0.0014\n",
            "Epoch 170/300 - Training Loss: 0.0013, Validation Loss: 0.0012\n",
            "Epoch 171/300 - Training Loss: 0.0013, Validation Loss: 0.0012\n",
            "Epoch 172/300 - Training Loss: 0.0013, Validation Loss: 0.0012\n",
            "Epoch 173/300 - Training Loss: 0.0013, Validation Loss: 0.0012\n",
            "Epoch 174/300 - Training Loss: 0.0013, Validation Loss: 0.0012\n",
            "Epoch 175/300 - Training Loss: 0.0013, Validation Loss: 0.0012\n",
            "Epoch 176/300 - Training Loss: 0.0013, Validation Loss: 0.0012\n",
            "Epoch 177/300 - Training Loss: 0.0013, Validation Loss: 0.0012\n",
            "Epoch 178/300 - Training Loss: 0.0013, Validation Loss: 0.0012\n",
            "Epoch 179/300 - Training Loss: 0.0013, Validation Loss: 0.0012\n",
            "Epoch 180/300 - Training Loss: 0.0012, Validation Loss: 0.0012\n",
            "Epoch 181/300 - Training Loss: 0.0013, Validation Loss: 0.0012\n",
            "Epoch 182/300 - Training Loss: 0.0012, Validation Loss: 0.0012\n",
            "Epoch 183/300 - Training Loss: 0.0012, Validation Loss: 0.0012\n",
            "Epoch 184/300 - Training Loss: 0.0012, Validation Loss: 0.0012\n",
            "Epoch 185/300 - Training Loss: 0.0012, Validation Loss: 0.0012\n",
            "Epoch 186/300 - Training Loss: 0.0012, Validation Loss: 0.0011\n",
            "Epoch 187/300 - Training Loss: 0.0012, Validation Loss: 0.0011\n",
            "Epoch 188/300 - Training Loss: 0.0012, Validation Loss: 0.0011\n",
            "Epoch 189/300 - Training Loss: 0.0012, Validation Loss: 0.0011\n",
            "Epoch 190/300 - Training Loss: 0.0012, Validation Loss: 0.0011\n",
            "Epoch 191/300 - Training Loss: 0.0012, Validation Loss: 0.0011\n",
            "Epoch 192/300 - Training Loss: 0.0012, Validation Loss: 0.0011\n",
            "Epoch 193/300 - Training Loss: 0.0012, Validation Loss: 0.0011\n",
            "Epoch 194/300 - Training Loss: 0.0012, Validation Loss: 0.0011\n",
            "Epoch 195/300 - Training Loss: 0.0012, Validation Loss: 0.0011\n",
            "Epoch 196/300 - Training Loss: 0.0012, Validation Loss: 0.0011\n",
            "Epoch 197/300 - Training Loss: 0.0012, Validation Loss: 0.0011\n",
            "Epoch 198/300 - Training Loss: 0.0012, Validation Loss: 0.0011\n",
            "Epoch 199/300 - Training Loss: 0.0012, Validation Loss: 0.0011\n",
            "Epoch 200/300 - Training Loss: 0.0011, Validation Loss: 0.0011\n",
            "Epoch 201/300 - Training Loss: 0.0012, Validation Loss: 0.0011\n",
            "Epoch 202/300 - Training Loss: 0.0012, Validation Loss: 0.0011\n",
            "Epoch 203/300 - Training Loss: 0.0011, Validation Loss: 0.0011\n",
            "Epoch 204/300 - Training Loss: 0.0012, Validation Loss: 0.0011\n",
            "Epoch 205/300 - Training Loss: 0.0012, Validation Loss: 0.0011\n",
            "Epoch 206/300 - Training Loss: 0.0012, Validation Loss: 0.0011\n",
            "Epoch 207/300 - Training Loss: 0.0012, Validation Loss: 0.0011\n",
            "Epoch 208/300 - Training Loss: 0.0011, Validation Loss: 0.0011\n",
            "Epoch 209/300 - Training Loss: 0.0012, Validation Loss: 0.0011\n",
            "Epoch 210/300 - Training Loss: 0.0011, Validation Loss: 0.0011\n",
            "Epoch 211/300 - Training Loss: 0.0011, Validation Loss: 0.0011\n",
            "Epoch 212/300 - Training Loss: 0.0011, Validation Loss: 0.0010\n",
            "Epoch 213/300 - Training Loss: 0.0011, Validation Loss: 0.0011\n",
            "Epoch 214/300 - Training Loss: 0.0011, Validation Loss: 0.0010\n",
            "Epoch 215/300 - Training Loss: 0.0011, Validation Loss: 0.0010\n",
            "Epoch 216/300 - Training Loss: 0.0011, Validation Loss: 0.0010\n",
            "Epoch 217/300 - Training Loss: 0.0011, Validation Loss: 0.0010\n",
            "Epoch 218/300 - Training Loss: 0.0011, Validation Loss: 0.0010\n",
            "Epoch 219/300 - Training Loss: 0.0011, Validation Loss: 0.0010\n",
            "Epoch 220/300 - Training Loss: 0.0011, Validation Loss: 0.0010\n",
            "Epoch 221/300 - Training Loss: 0.0011, Validation Loss: 0.0010\n",
            "Epoch 222/300 - Training Loss: 0.0011, Validation Loss: 0.0010\n",
            "Epoch 223/300 - Training Loss: 0.0011, Validation Loss: 0.0010\n",
            "Epoch 224/300 - Training Loss: 0.0011, Validation Loss: 0.0010\n",
            "Epoch 225/300 - Training Loss: 0.0011, Validation Loss: 0.0010\n",
            "Epoch 226/300 - Training Loss: 0.0010, Validation Loss: 0.0010\n",
            "Epoch 227/300 - Training Loss: 0.0011, Validation Loss: 0.0010\n",
            "Epoch 228/300 - Training Loss: 0.0011, Validation Loss: 0.0010\n",
            "Epoch 229/300 - Training Loss: 0.0011, Validation Loss: 0.0010\n",
            "Epoch 230/300 - Training Loss: 0.0011, Validation Loss: 0.0010\n",
            "Epoch 231/300 - Training Loss: 0.0010, Validation Loss: 0.0010\n",
            "Epoch 232/300 - Training Loss: 0.0010, Validation Loss: 0.0010\n",
            "Epoch 233/300 - Training Loss: 0.0010, Validation Loss: 0.0010\n",
            "Epoch 234/300 - Training Loss: 0.0011, Validation Loss: 0.0010\n",
            "Epoch 235/300 - Training Loss: 0.0010, Validation Loss: 0.0010\n",
            "Epoch 236/300 - Training Loss: 0.0010, Validation Loss: 0.0010\n",
            "Epoch 237/300 - Training Loss: 0.0010, Validation Loss: 0.0010\n",
            "Epoch 238/300 - Training Loss: 0.0010, Validation Loss: 0.0010\n",
            "Epoch 239/300 - Training Loss: 0.0010, Validation Loss: 0.0010\n",
            "Epoch 240/300 - Training Loss: 0.0010, Validation Loss: 0.0010\n",
            "Epoch 241/300 - Training Loss: 0.0010, Validation Loss: 0.0010\n",
            "Epoch 242/300 - Training Loss: 0.0010, Validation Loss: 0.0009\n",
            "Epoch 243/300 - Training Loss: 0.0010, Validation Loss: 0.0009\n",
            "Epoch 244/300 - Training Loss: 0.0010, Validation Loss: 0.0010\n",
            "Epoch 245/300 - Training Loss: 0.0010, Validation Loss: 0.0009\n",
            "Epoch 246/300 - Training Loss: 0.0010, Validation Loss: 0.0009\n",
            "Epoch 247/300 - Training Loss: 0.0010, Validation Loss: 0.0010\n",
            "Epoch 248/300 - Training Loss: 0.0010, Validation Loss: 0.0009\n",
            "Epoch 249/300 - Training Loss: 0.0010, Validation Loss: 0.0009\n",
            "Epoch 250/300 - Training Loss: 0.0010, Validation Loss: 0.0009\n",
            "Epoch 251/300 - Training Loss: 0.0009, Validation Loss: 0.0009\n",
            "Epoch 252/300 - Training Loss: 0.0010, Validation Loss: 0.0010\n",
            "Epoch 253/300 - Training Loss: 0.0010, Validation Loss: 0.0009\n",
            "Epoch 254/300 - Training Loss: 0.0009, Validation Loss: 0.0009\n",
            "Epoch 255/300 - Training Loss: 0.0010, Validation Loss: 0.0009\n",
            "Epoch 256/300 - Training Loss: 0.0010, Validation Loss: 0.0009\n",
            "Epoch 257/300 - Training Loss: 0.0010, Validation Loss: 0.0009\n",
            "Epoch 258/300 - Training Loss: 0.0010, Validation Loss: 0.0009\n",
            "Epoch 259/300 - Training Loss: 0.0009, Validation Loss: 0.0009\n",
            "Epoch 260/300 - Training Loss: 0.0010, Validation Loss: 0.0009\n",
            "Epoch 261/300 - Training Loss: 0.0010, Validation Loss: 0.0009\n",
            "Epoch 262/300 - Training Loss: 0.0010, Validation Loss: 0.0009\n",
            "Epoch 263/300 - Training Loss: 0.0010, Validation Loss: 0.0009\n",
            "Epoch 264/300 - Training Loss: 0.0009, Validation Loss: 0.0009\n",
            "Epoch 265/300 - Training Loss: 0.0010, Validation Loss: 0.0009\n",
            "Epoch 266/300 - Training Loss: 0.0009, Validation Loss: 0.0009\n",
            "Epoch 267/300 - Training Loss: 0.0009, Validation Loss: 0.0009\n",
            "Epoch 268/300 - Training Loss: 0.0010, Validation Loss: 0.0009\n",
            "Epoch 269/300 - Training Loss: 0.0009, Validation Loss: 0.0009\n",
            "Epoch 270/300 - Training Loss: 0.0010, Validation Loss: 0.0009\n",
            "Epoch 271/300 - Training Loss: 0.0009, Validation Loss: 0.0009\n",
            "Epoch 272/300 - Training Loss: 0.0009, Validation Loss: 0.0009\n",
            "Epoch 273/300 - Training Loss: 0.0009, Validation Loss: 0.0009\n",
            "Epoch 274/300 - Training Loss: 0.0009, Validation Loss: 0.0009\n",
            "Epoch 275/300 - Training Loss: 0.0009, Validation Loss: 0.0009\n",
            "Epoch 276/300 - Training Loss: 0.0010, Validation Loss: 0.0009\n",
            "Epoch 277/300 - Training Loss: 0.0010, Validation Loss: 0.0009\n",
            "Epoch 278/300 - Training Loss: 0.0009, Validation Loss: 0.0009\n",
            "Epoch 279/300 - Training Loss: 0.0009, Validation Loss: 0.0009\n",
            "Epoch 280/300 - Training Loss: 0.0009, Validation Loss: 0.0009\n",
            "Epoch 281/300 - Training Loss: 0.0009, Validation Loss: 0.0009\n",
            "Epoch 282/300 - Training Loss: 0.0010, Validation Loss: 0.0009\n",
            "Epoch 283/300 - Training Loss: 0.0009, Validation Loss: 0.0009\n",
            "Epoch 284/300 - Training Loss: 0.0009, Validation Loss: 0.0009\n",
            "Epoch 285/300 - Training Loss: 0.0010, Validation Loss: 0.0009\n",
            "Epoch 286/300 - Training Loss: 0.0009, Validation Loss: 0.0009\n",
            "Epoch 287/300 - Training Loss: 0.0010, Validation Loss: 0.0009\n",
            "Epoch 288/300 - Training Loss: 0.0010, Validation Loss: 0.0009\n",
            "Epoch 289/300 - Training Loss: 0.0009, Validation Loss: 0.0009\n",
            "Epoch 290/300 - Training Loss: 0.0009, Validation Loss: 0.0009\n",
            "Epoch 291/300 - Training Loss: 0.0009, Validation Loss: 0.0009\n",
            "Epoch 292/300 - Training Loss: 0.0009, Validation Loss: 0.0009\n",
            "Epoch 293/300 - Training Loss: 0.0009, Validation Loss: 0.0009\n",
            "Epoch 294/300 - Training Loss: 0.0009, Validation Loss: 0.0009\n",
            "Epoch 295/300 - Training Loss: 0.0009, Validation Loss: 0.0009\n",
            "Epoch 296/300 - Training Loss: 0.0009, Validation Loss: 0.0009\n",
            "Epoch 297/300 - Training Loss: 0.0009, Validation Loss: 0.0009\n",
            "Epoch 298/300 - Training Loss: 0.0009, Validation Loss: 0.0009\n",
            "Epoch 299/300 - Training Loss: 0.0009, Validation Loss: 0.0009\n",
            "Epoch 300/300 - Training Loss: 0.0009, Validation Loss: 0.0009\n",
            "Architecture components: Conv2d(1, 32, kernel_size=(3, 3), stride=(1, 1)) Sequential(\n",
            "  (0): Conv2d(32, 4, kernel_size=(1, 1), stride=(1, 1))\n",
            "  (1): ReLU()\n",
            "  (2): Conv2d(4, 32, kernel_size=(1, 1), stride=(1, 1))\n",
            "  (3): BatchNorm2d(32, eps=1e-05, momentum=0.1, affine=True, track_running_stats=True)\n",
            "  (4): LeakyReLU(negative_slope=0.01)\n",
            ") Sequential(\n",
            "  (0): Conv2d(32, 4, kernel_size=(1, 1), stride=(1, 1))\n",
            "  (1): BatchNorm2d(4, eps=1e-05, momentum=0.1, affine=True, track_running_stats=True)\n",
            "  (2): LeakyReLU(negative_slope=0.01)\n",
            "  (3): Conv2d(4, 32, kernel_size=(3, 3), stride=(1, 1))\n",
            "  (4): BatchNorm2d(32, eps=1e-05, momentum=0.1, affine=True, track_running_stats=True)\n",
            "  (5): LeakyReLU(negative_slope=0.01)\n",
            ") Sequential(\n",
            "  (0): Conv2d(32, 8, kernel_size=(3, 3), stride=(1, 1))\n",
            "  (1): BatchNorm2d(8, eps=1e-05, momentum=0.1, affine=True, track_running_stats=True)\n",
            "  (2): LeakyReLU(negative_slope=0.01)\n",
            "  (3): Conv2d(8, 64, kernel_size=(3, 3), stride=(1, 1))\n",
            ") Sequential(\n",
            "  (0): Linear(in_features=576, out_features=8, bias=True)\n",
            "  (1): BatchNorm1d(8, eps=1e-05, momentum=0.1, affine=True, track_running_stats=True)\n",
            "  (2): ReLU()\n",
            "  (3): Linear(in_features=8, out_features=4, bias=True)\n",
            "  (4): LeakyReLU(negative_slope=0.01)\n",
            "  (5): Linear(in_features=4, out_features=4, bias=True)\n",
            "  (6): BatchNorm1d(4, eps=1e-05, momentum=0.1, affine=True, track_running_stats=True)\n",
            "  (7): LeakyReLU(negative_slope=0.01)\n",
            "  (8): Linear(in_features=4, out_features=2, bias=True)\n",
            ")\n",
            "Mean Distance:  0.40206024 , Inference time:  0.14944028854370117 , Validation Loss:  0.0009059786971192807 , Param Count:  13770\n"
          ]
        }
      ]
    },
    {
      "cell_type": "code",
      "source": [
        "# # save model to a file: model_weights.pth\n",
        "\n",
        "# # Path to save the model's weights\n",
        "# model_weights_path = 'model_weights_300_epochs.pth'\n",
        "\n",
        "# # Save the model's state dictionary\n",
        "# torch.save(model.state_dict(), model_weights_path)"
      ],
      "metadata": {
        "id": "tyTQbOhneyS_"
      },
      "execution_count": null,
      "outputs": []
    },
    {
      "cell_type": "code",
      "source": [
        "# Assuming the model architecture is already defined and named 'model' and want to load the weights from 'model_weights.pth'\n",
        "\n",
        "model.load_state_dict(torch.load('model_weights_300_epochs.pth'))\n",
        "model.eval()  # Set the model to evaluation mode for inference"
      ],
      "metadata": {
        "id": "poCc2AyXy2nZ",
        "colab": {
          "base_uri": "https://localhost:8080/"
        },
        "outputId": "cfc753c4-d2af-4770-e0eb-da34239ec683"
      },
      "execution_count": null,
      "outputs": [
        {
          "output_type": "execute_result",
          "data": {
            "text/plain": [
              "NAC(\n",
              "  (conv1): Conv2d(1, 32, kernel_size=(3, 3), stride=(1, 1))\n",
              "  (block1): Sequential(\n",
              "    (0): Conv2d(32, 4, kernel_size=(1, 1), stride=(1, 1))\n",
              "    (1): ReLU()\n",
              "    (2): Conv2d(4, 32, kernel_size=(1, 1), stride=(1, 1))\n",
              "    (3): BatchNorm2d(32, eps=1e-05, momentum=0.1, affine=True, track_running_stats=True)\n",
              "    (4): LeakyReLU(negative_slope=0.01)\n",
              "  )\n",
              "  (block2): Sequential(\n",
              "    (0): Conv2d(32, 4, kernel_size=(1, 1), stride=(1, 1))\n",
              "    (1): BatchNorm2d(4, eps=1e-05, momentum=0.1, affine=True, track_running_stats=True)\n",
              "    (2): LeakyReLU(negative_slope=0.01)\n",
              "    (3): Conv2d(4, 32, kernel_size=(3, 3), stride=(1, 1))\n",
              "    (4): BatchNorm2d(32, eps=1e-05, momentum=0.1, affine=True, track_running_stats=True)\n",
              "    (5): LeakyReLU(negative_slope=0.01)\n",
              "  )\n",
              "  (block3): Sequential(\n",
              "    (0): Conv2d(32, 8, kernel_size=(3, 3), stride=(1, 1))\n",
              "    (1): BatchNorm2d(8, eps=1e-05, momentum=0.1, affine=True, track_running_stats=True)\n",
              "    (2): LeakyReLU(negative_slope=0.01)\n",
              "    (3): Conv2d(8, 64, kernel_size=(3, 3), stride=(1, 1))\n",
              "  )\n",
              "  (flatten): Flatten(start_dim=1, end_dim=-1)\n",
              "  (mlp): Sequential(\n",
              "    (0): Linear(in_features=576, out_features=8, bias=True)\n",
              "    (1): BatchNorm1d(8, eps=1e-05, momentum=0.1, affine=True, track_running_stats=True)\n",
              "    (2): ReLU()\n",
              "    (3): Linear(in_features=8, out_features=4, bias=True)\n",
              "    (4): LeakyReLU(negative_slope=0.01)\n",
              "    (5): Linear(in_features=4, out_features=4, bias=True)\n",
              "    (6): BatchNorm1d(4, eps=1e-05, momentum=0.1, affine=True, track_running_stats=True)\n",
              "    (7): LeakyReLU(negative_slope=0.01)\n",
              "    (8): Linear(in_features=4, out_features=2, bias=True)\n",
              "  )\n",
              ")"
            ]
          },
          "metadata": {},
          "execution_count": 9
        }
      ]
    },
    {
      "cell_type": "code",
      "source": [
        " #get_param_count(model)"
      ],
      "metadata": {
        "id": "19kxnrI_Vg1-"
      },
      "execution_count": null,
      "outputs": []
    },
    {
      "cell_type": "code",
      "source": [
        "device = torch.device(\"cuda\" if torch.cuda.is_available() else \"cpu\")\n",
        "\n",
        "model.to(device)\n",
        "\n",
        "mean_distance = get_performance(model, test_loader, device, psz=11)\n",
        "print('Mean Distance: ', mean_distance)"
      ],
      "metadata": {
        "colab": {
          "base_uri": "https://localhost:8080/"
        },
        "id": "_ALhBdQghD0l",
        "outputId": "59e1a465-4f3f-4e77-9478-a8db35f5868d"
      },
      "execution_count": null,
      "outputs": [
        {
          "output_type": "stream",
          "name": "stdout",
          "text": [
            "Mean Distance:  0.40206024\n"
          ]
        }
      ]
    },
    {
      "cell_type": "markdown",
      "source": [
        "## Convert the model to FPGA firmware with hls4ml"
      ],
      "metadata": {
        "id": "gDvKMiWvjSF7"
      }
    },
    {
      "cell_type": "code",
      "source": [
        "!pip install hls4ml"
      ],
      "metadata": {
        "id": "7h6-SCOPje7L"
      },
      "execution_count": null,
      "outputs": []
    },
    {
      "cell_type": "code",
      "source": [
        "#!pip install plotting"
      ],
      "metadata": {
        "id": "EWeSZmiDkeZp"
      },
      "execution_count": null,
      "outputs": []
    },
    {
      "cell_type": "code",
      "source": [
        "import hls4ml\n",
        "#import plotting\n",
        "import numpy as np"
      ],
      "metadata": {
        "id": "0hfWDim9e4on"
      },
      "execution_count": null,
      "outputs": []
    },
    {
      "cell_type": "code",
      "source": [
        "# added to alter the io_type and strategy\n",
        "\n",
        "# need to alter an existing file in my hls setup to allow for more than 4096\n",
        "\n",
        "# Move the model to CPU\n",
        "model.cpu()\n",
        "\n",
        "# Generate initial configuration\n",
        "config = hls4ml.utils.config_from_pytorch_model(model, granularity='model')\n",
        "\n",
        "# Now, manually adjust the generated configuration\n",
        "# Since the granularity is set to 'model', these settings will apply model-wide\n",
        "\n",
        "# Set io_type to 'io_stream' for the entire model\n",
        "config['Model']['IOType'] = 'io_stream'\n",
        "\n",
        "# Set strategy to 'Resource' for the entire model\n",
        "config['Model']['Strategy'] = 'Resource'\n",
        "\n",
        "# Set reuse factor to 32 for the entire model\n",
        "config['Model']['ReuseFactor'] = 4 # changed from 32 to 4, crashed with 34\n",
        "\n",
        "# Print the modified configuration\n",
        "print(\"-----------------------------------\")\n",
        "print(\"Configuration\")\n",
        "print(config)  # Use print_dict(config) if you prefer a more structured output\n",
        "print(\"-----------------------------------\")\n",
        "\n",
        "# Convert the PyTorch model to HLS model with the specified configuration\n",
        "hls_model = hls4ml.converters.convert_from_pytorch_model(\n",
        "    model,\n",
        "    input_shape=(None, 1, 11, 11),\n",
        "    hls_config=config,\n",
        "    output_dir='synthesis_2/test_2',\n",
        "    part='xcu250-figd2104-2L-e'\n",
        ")"
      ],
      "metadata": {
        "id": "p40bzELOjWYB",
        "colab": {
          "base_uri": "https://localhost:8080/"
        },
        "outputId": "1fb45249-7f66-4ff3-bdf9-24515a0c1e6d"
      },
      "execution_count": null,
      "outputs": [
        {
          "output_type": "stream",
          "name": "stdout",
          "text": [
            "-----------------------------------\n",
            "Configuration\n",
            "{'Model': {'Precision': 'ap_fixed<16,6>', 'ReuseFactor': 4, 'InputsChannelLast': False, 'TransposeOutputs': True, 'Strategy': 'Resource', 'IOType': 'io_stream'}}\n",
            "-----------------------------------\n",
            "Interpreting Model ...\n",
            "Topology:\n",
            "Layer name: conv1, layer type: Conv2D, input shape: [[None, 1, 11, 11]]\n",
            "Layer name: block1_0, layer type: Conv2D, input shape: [[None, 32, 9, 9]]\n",
            "Layer name: block1_1, layer type: Activation, input shape: [[None, 4, 9, 9]]\n",
            "Layer name: block1_2, layer type: Conv2D, input shape: [[None, 4, 9, 9]]\n",
            "Layer name: block1_3, layer type: BatchNormalization, input shape: [[None, 32, 9, 9]]\n",
            "Layer name: block1_4, layer type: LeakyReLU, input shape: [[None, 32, 9, 9]]\n",
            "Layer name: block2_0, layer type: Conv2D, input shape: [[None, 32, 9, 9]]\n",
            "Layer name: block2_1, layer type: BatchNormalization, input shape: [[None, 4, 9, 9]]\n",
            "Layer name: block2_2, layer type: LeakyReLU, input shape: [[None, 4, 9, 9]]\n",
            "Layer name: block2_3, layer type: Conv2D, input shape: [[None, 4, 9, 9]]\n",
            "Layer name: block2_4, layer type: BatchNormalization, input shape: [[None, 32, 7, 7]]\n",
            "Layer name: block2_5, layer type: LeakyReLU, input shape: [[None, 32, 7, 7]]\n",
            "Layer name: block3_0, layer type: Conv2D, input shape: [[None, 32, 7, 7]]\n",
            "Layer name: block3_1, layer type: BatchNormalization, input shape: [[None, 8, 5, 5]]\n",
            "Layer name: block3_2, layer type: LeakyReLU, input shape: [[None, 8, 5, 5]]\n",
            "Layer name: block3_3, layer type: Conv2D, input shape: [[None, 8, 5, 5]]\n",
            "Layer name: flatten, layer type: Reshape, input shape: [[None, 64, 3, 3]]\n",
            "Layer name: mlp_0, layer type: Dense, input shape: [[None, 576]]\n",
            "Layer name: mlp_1, layer type: BatchNormalization, input shape: [[None, 8]]\n",
            "Layer name: mlp_2, layer type: Activation, input shape: [[None, 8]]\n",
            "Layer name: mlp_3, layer type: Dense, input shape: [[None, 8]]\n",
            "Layer name: mlp_4, layer type: LeakyReLU, input shape: [[None, 4]]\n",
            "Layer name: mlp_5, layer type: Dense, input shape: [[None, 4]]\n",
            "Layer name: mlp_6, layer type: BatchNormalization, input shape: [[None, 4]]\n",
            "Layer name: mlp_7, layer type: LeakyReLU, input shape: [[None, 4]]\n",
            "Layer name: mlp_8, layer type: Dense, input shape: [[None, 4]]\n",
            "Creating HLS model\n",
            "WARNING: Changing pipeline style to \"dataflow\".\n",
            "WARNING: Invalid ReuseFactor=4 in layer \"conv1\".Using ReuseFactor=3 instead. Valid ReuseFactor(s): 1,3,9,18,36,72,144,288.\n"
          ]
        }
      ]
    },
    {
      "cell_type": "code",
      "source": [
        "# # Move the model to CPU\n",
        "# model.cpu()\n",
        "\n",
        "# config = hls4ml.utils.config_from_pytorch_model(model, granularity='model')\n",
        "# print(\"-----------------------------------\")\n",
        "# print(\"Configuration\")\n",
        "# print(config) # plotting.print_dict(config)\n",
        "# print(\"-----------------------------------\")\n",
        "# hls_model = hls4ml.converters.convert_from_pytorch_model(\n",
        "#     model, input_shape=(None,1,11,11), hls_config=config, output_dir='synthesis_2/test_2', part='xcu250-figd2104-2L-e'\n",
        "# )\n",
        "\n",
        "# # input shape should be (None,1,11,11) -> None, channels, height, width\n",
        "# # 'convert_from_pytorch_model' says the first element is the batch size\n",
        "\n",
        "# # GeLU not supported, changed to LeakyReLU\n",
        "# # LayerNorm not supported, changed to batchnorm"
      ],
      "metadata": {
        "id": "pbntsrpejeAH"
      },
      "execution_count": null,
      "outputs": []
    },
    {
      "cell_type": "code",
      "source": [
        "hls4ml.utils.plot_model(hls_model, show_shapes=True, show_precision=True, to_file=None)"
      ],
      "metadata": {
        "colab": {
          "base_uri": "https://localhost:8080/",
          "height": 1000
        },
        "id": "ErkPQ1tNvTk1",
        "outputId": "8214d9d2-f47e-4401-b1cb-53890397328b"
      },
      "execution_count": null,
      "outputs": [
        {
          "output_type": "execute_result",
          "data": {
            "image/png": "[encoded data removed]",
            "text/plain": [
              "<IPython.core.display.Image object>"
            ]
          },
          "metadata": {},
          "execution_count": 16
        }
      ]
    },
    {
      "cell_type": "code",
      "source": [
        "# need to create a new method for hls, not same as pytorch format\n",
        "  # need to change get_performance\n",
        "\n",
        "def get_performance_hls(hls_model, dataloader, psz=11):\n",
        "    distances = []  # Initialize an empty list to store distances for each batch.\n",
        "    for features, true_locs in dataloader:  # Iterate over batches of data.\n",
        "        # Convert PyTorch tensors to NumPy arrays for compatibility with hls4ml.\n",
        "        features_numpy = features.numpy()\n",
        "        # Use the hls_model's predict method to get predictions from the NumPy array inputs.\n",
        "        preds = hls_model.predict(features_numpy)\n",
        "        # Calculate Euclidean distance between predictions and true locations, scaled by psz.\n",
        "        distance = np.sqrt(np.sum((preds - true_locs.numpy()) ** 2, axis=1)) * psz\n",
        "        distances.extend(distance)  # Add the distances for this batch to the list.\n",
        "\n",
        "    mean_distance = np.mean(distances)  # Calculate the mean of all distances.\n",
        "    return mean_distance\n"
      ],
      "metadata": {
        "id": "y8ZmGoYftuLc"
      },
      "execution_count": null,
      "outputs": []
    },
    {
      "cell_type": "code",
      "source": [
        "# # copied this method below to compare the the hls implementation above\n",
        "# # this is the pytorch method and should be commented out\n",
        "\n",
        "# def get_performance(model, dataloader, device, psz=11):\n",
        "#     distances = []  # Initialize an empty list to store distances for each batch.\n",
        "#     with torch.no_grad():  # Disable gradient computation\n",
        "#         for features, true_locs in dataloader:  # Iterate over batches of data.\n",
        "#             features = features.to(device)  # Move features to the specified device (CPU/GPU).\n",
        "#             preds = model(features)  # Get predictions using the PyTorch model.\n",
        "#             preds = preds.cpu().numpy()  # Move predictions back to CPU and convert to NumPy arrays.\n",
        "\n",
        "#             # Calculate Euclidean distance between predictions and true locations, scaled by psz.\n",
        "#             distance = np.sqrt(np.sum((preds - true_locs.numpy()) ** 2, axis=1)) * psz\n",
        "#             distances.extend(distance)  # Add the distances for this batch to the list.\n",
        "\n",
        "#     mean_distance = np.mean(distances)  # Calculate the mean of all distances.\n",
        "#     return mean_distance"
      ],
      "metadata": {
        "id": "rEvUCi4x8FXO"
      },
      "execution_count": null,
      "outputs": []
    },
    {
      "cell_type": "code",
      "source": [
        "hls_model.compile()"
      ],
      "metadata": {
        "colab": {
          "base_uri": "https://localhost:8080/"
        },
        "id": "prla5AF2uwWF",
        "outputId": "fe2e8f41-a7f0-4ec3-b8ae-e076fb937b75"
      },
      "execution_count": null,
      "outputs": [
        {
          "output_type": "stream",
          "name": "stdout",
          "text": [
            "Writing HLS project\n",
            "Done\n"
          ]
        }
      ]
    },
    {
      "cell_type": "code",
      "source": [
        "# X_test = np.ascontiguousarray(test_loader)\n",
        "# y_hls = hls_model.predict(X_test)\n",
        "\n",
        "mean_distance_hls = get_performance_hls(hls_model, test_loader, psz=11)\n",
        "print('HLS Mean Distance: ', mean_distance_hls)\n",
        "print('Mean Distance: ', mean_distance)"
      ],
      "metadata": {
        "colab": {
          "base_uri": "https://localhost:8080/"
        },
        "id": "-PsNQXjVpdz5",
        "outputId": "53411174-b39b-4c86-d922-fc6cc77510a9"
      },
      "execution_count": null,
      "outputs": [
        {
          "output_type": "stream",
          "name": "stdout",
          "text": [
            "HLS Mean Distance:  0.39590603\n",
            "Mean Distance:  0.40206024\n"
          ]
        }
      ]
    },
    {
      "cell_type": "code",
      "source": [
        "# run to save the compiled hls model\n",
        "hls_model.write()"
      ],
      "metadata": {
        "id": "BCNpuEfuBHfe",
        "colab": {
          "base_uri": "https://localhost:8080/"
        },
        "outputId": "8c12b7a8-7c5d-427c-cff5-423bac63a780"
      },
      "execution_count": null,
      "outputs": [
        {
          "output_type": "stream",
          "name": "stdout",
          "text": [
            "Writing HLS project\n",
            "Done\n"
          ]
        }
      ]
    },
    {
      "cell_type": "code",
      "source": [
        "# # Load the configuration\n",
        "# with open('synthesis_out/test', 'r') as f:\n",
        "#     hls_config = json.load(f)"
      ],
      "metadata": {
        "id": "QtbqbqmWCe1_"
      },
      "execution_count": null,
      "outputs": []
    },
    {
      "cell_type": "markdown",
      "source": [
        "## Vivado Use"
      ],
      "metadata": {
        "id": "1E4H4HbNz02l"
      }
    },
    {
      "cell_type": "code",
      "source": [
        "hls_model.build(csim=False)"
      ],
      "metadata": {
        "id": "SkXRm9PTz3UR"
      },
      "execution_count": null,
      "outputs": []
    },
    {
      "cell_type": "code",
      "source": [
        "hls4ml.report.read_vivado_report('model_1/hls4ml_prj/')"
      ],
      "metadata": {
        "id": "C1II2YwMz44Y"
      },
      "execution_count": null,
      "outputs": []
    },
    {
      "cell_type": "markdown",
      "source": [
        "## py file"
      ],
      "metadata": {
        "id": "ePsWxtveB-zM"
      }
    },
    {
      "cell_type": "code",
      "source": [
        "# Load in the pytorch model, convert to HLS, compile the HLS model, then synthesize the HLS model with Vivado\n",
        "\n",
        "import torch\n",
        "import torch.nn as nn\n",
        "import numpy as np\n",
        "import hls4ml\n",
        "\n",
        "# Model architecture\n",
        "\n",
        "class NAC(torch.nn.Module):\n",
        "    def __init__(self):\n",
        "        super().__init__()\n",
        "        self.conv1 = nn.Conv2d(1, 32, kernel_size=3, stride=1)\n",
        "        self.block1 = nn.Sequential(\n",
        "            nn.Conv2d(32, 4, 1, 1), #nn.Linear(32, 4), #Point-wise Convolution\n",
        "            nn.ReLU(),\n",
        "            nn.Conv2d(4, 32, 1, 1), #nn.Linear(4, 32), #Point-wise Convolution\n",
        "            nn.BatchNorm2d(32),\n",
        "            nn.LeakyReLU() #nn.LeakyReLU() (tried out to see if would get a smaller delta is used relu - not the case)\n",
        "        )\n",
        "        self.block2 = nn.Sequential(\n",
        "            nn.Conv2d(32, 4, 1, 1), #nn.Linear(32, 4), #Point-wise Convolution\n",
        "            nn.BatchNorm2d(4),\n",
        "            nn.LeakyReLU(), #nn.GELU(), (hls4ml not supported)\n",
        "            nn.Conv2d(4, 32, 3, 1),\n",
        "            nn.BatchNorm2d(32), #nn.LayerNorm((32, 7, 7)), (hls4ml not supported)\n",
        "            nn.LeakyReLU() #nn.GELU() (hls4ml not supported)\n",
        "        )\n",
        "        self.block3 = nn.Sequential(\n",
        "            nn.Conv2d(32, 8, 3, 1),\n",
        "            nn.BatchNorm2d(8), #nn.LayerNorm((8, 5, 5)), (hls4ml not supported)\n",
        "            nn.LeakyReLU(), #nn.GELU(), (hls4ml not supported)\n",
        "            nn.Conv2d(8, 64, 3, 1),\n",
        "        )\n",
        "        self.flatten = nn.Flatten() # added this for hls4ml support\n",
        "        self.mlp = nn.Sequential(\n",
        "            nn.Linear(576, 8),\n",
        "            nn.BatchNorm1d(8), #nn.LayerNorm((8)), (hls4ml not supported)\n",
        "            nn.ReLU(),\n",
        "            nn.Linear(8, 4),\n",
        "            nn.LeakyReLU(), #nn.GELU(), (hls4ml not supported)\n",
        "            nn.Linear(4,4),\n",
        "            nn.BatchNorm1d(4), #nn.LayerNorm((4)), (hls4ml not supported)\n",
        "            nn.LeakyReLU(), #nn.GELU(), (hls4ml not supported)\n",
        "            nn.Linear(4,2),\n",
        "        )\n",
        "\n",
        "    def forward(self,x):\n",
        "        x = self.conv1(x)\n",
        "        x = self.block1(x)\n",
        "        x = self.block2(x)\n",
        "        x = self.block3(x)\n",
        "        x = self.flatten(x) #torch.flatten(x,1) # removed this as hls4ml does not support it\n",
        "        x = self.mlp(x)\n",
        "        return x\n",
        "\n",
        "# Define the model\n",
        "model = NAC()\n",
        "\n",
        "# Model's state dictionary is saved in 'model_weights.pth'\n",
        "model_weights_path = 'model_weights_300_epochs.pth'\n",
        "\n",
        "model.load_state_dict(torch.load(model_weights_path, map_location=torch.device('cpu')))\n",
        "\n",
        "model.eval()\n",
        "\n",
        "# Generate initial configuration\n",
        "config = hls4ml.utils.config_from_pytorch_model(model, granularity='model')\n",
        "\n",
        "# Set io_type to 'io_stream' for the entire model\n",
        "config['Model']['IOType'] = 'io_stream'\n",
        "\n",
        "# Set strategy to 'Resource' for the entire model\n",
        "config['Model']['Strategy'] = 'Resource'\n",
        "\n",
        "# Set reuse factor to 32 for the entire model\n",
        "config['Model']['ReuseFactor'] = 4 # changed from 32 to 4, crashed with 34\n",
        "\n",
        "# Print the modified configuration\n",
        "print(\"-----------------------------------\")\n",
        "print(\"Configuration\")\n",
        "print(config)  # Use print_dict(config) if you prefer a more structured output\n",
        "print(\"-----------------------------------\")\n",
        "\n",
        "# Convert the PyTorch model to HLS model with the specified configuration\n",
        "hls_model = hls4ml.converters.convert_from_pytorch_model(\n",
        "    model,\n",
        "    input_shape=(None, 1, 11, 11),\n",
        "    hls_config=config,\n",
        "    output_dir='model_draft/hls4ml_prj',\n",
        "    part='xcu250-figd2104-2L-e'\n",
        ")\n",
        "\n",
        "# Compile the HLS model\n",
        "hls_model.compile()\n",
        "\n",
        "# Synthesize (with Vivado)\n",
        "hls_model.build(csim=False)\n",
        "\n",
        "# Check the reports\n",
        "hls4ml.report.read_vivado_report('model_draft/hls4ml_prj/')"
      ],
      "metadata": {
        "id": "a-GmljKFt-6s",
        "colab": {
          "base_uri": "https://localhost:8080/",
          "height": 1000
        },
        "outputId": "c687031f-dc09-47a8-b7e6-50714a13a951"
      },
      "execution_count": null,
      "outputs": [
        {
          "output_type": "stream",
          "name": "stdout",
          "text": [
            "-----------------------------------\n",
            "Configuration\n",
            "{'Model': {'Precision': 'ap_fixed<16,6>', 'ReuseFactor': 4, 'InputsChannelLast': False, 'TransposeOutputs': True, 'Strategy': 'Resource', 'IOType': 'io_stream'}}\n",
            "-----------------------------------\n",
            "Interpreting Model ...\n",
            "Topology:\n",
            "Layer name: conv1, layer type: Conv2D, input shape: [[None, 1, 11, 11]]\n",
            "Layer name: block1_0, layer type: Conv2D, input shape: [[None, 32, 9, 9]]\n",
            "Layer name: block1_1, layer type: Activation, input shape: [[None, 4, 9, 9]]\n",
            "Layer name: block1_2, layer type: Conv2D, input shape: [[None, 4, 9, 9]]\n",
            "Layer name: block1_3, layer type: BatchNormalization, input shape: [[None, 32, 9, 9]]\n",
            "Layer name: block1_4, layer type: LeakyReLU, input shape: [[None, 32, 9, 9]]\n",
            "Layer name: block2_0, layer type: Conv2D, input shape: [[None, 32, 9, 9]]\n",
            "Layer name: block2_1, layer type: BatchNormalization, input shape: [[None, 4, 9, 9]]\n",
            "Layer name: block2_2, layer type: LeakyReLU, input shape: [[None, 4, 9, 9]]\n",
            "Layer name: block2_3, layer type: Conv2D, input shape: [[None, 4, 9, 9]]\n",
            "Layer name: block2_4, layer type: BatchNormalization, input shape: [[None, 32, 7, 7]]\n",
            "Layer name: block2_5, layer type: LeakyReLU, input shape: [[None, 32, 7, 7]]\n",
            "Layer name: block3_0, layer type: Conv2D, input shape: [[None, 32, 7, 7]]\n",
            "Layer name: block3_1, layer type: BatchNormalization, input shape: [[None, 8, 5, 5]]\n",
            "Layer name: block3_2, layer type: LeakyReLU, input shape: [[None, 8, 5, 5]]\n",
            "Layer name: block3_3, layer type: Conv2D, input shape: [[None, 8, 5, 5]]\n",
            "Layer name: flatten, layer type: Reshape, input shape: [[None, 64, 3, 3]]\n",
            "Layer name: mlp_0, layer type: Dense, input shape: [[None, 576]]\n",
            "Layer name: mlp_1, layer type: BatchNormalization, input shape: [[None, 8]]\n",
            "Layer name: mlp_2, layer type: Activation, input shape: [[None, 8]]\n",
            "Layer name: mlp_3, layer type: Dense, input shape: [[None, 8]]\n",
            "Layer name: mlp_4, layer type: LeakyReLU, input shape: [[None, 4]]\n",
            "Layer name: mlp_5, layer type: Dense, input shape: [[None, 4]]\n",
            "Layer name: mlp_6, layer type: BatchNormalization, input shape: [[None, 4]]\n",
            "Layer name: mlp_7, layer type: LeakyReLU, input shape: [[None, 4]]\n",
            "Layer name: mlp_8, layer type: Dense, input shape: [[None, 4]]\n",
            "Creating HLS model\n",
            "WARNING: Changing pipeline style to \"dataflow\".\n",
            "WARNING: Invalid ReuseFactor=4 in layer \"conv1\".Using ReuseFactor=3 instead. Valid ReuseFactor(s): 1,3,9,18,36,72,144,288.\n",
            "Writing HLS project\n",
            "Done\n"
          ]
        },
        {
          "output_type": "error",
          "ename": "Exception",
          "evalue": "Vivado HLS installation not found. Make sure \"vivado_hls\" is on PATH.",
          "traceback": [
            "\u001b[0;31m---------------------------------------------------------------------------\u001b[0m",
            "\u001b[0;31mException\u001b[0m                                 Traceback (most recent call last)",
            "\u001b[0;32m<ipython-input-20-51289a94d19a>\u001b[0m in \u001b[0;36m<cell line: 98>\u001b[0;34m()\u001b[0m\n\u001b[1;32m     96\u001b[0m \u001b[0;34m\u001b[0m\u001b[0m\n\u001b[1;32m     97\u001b[0m \u001b[0;31m# Synthesize (with Vivado)\u001b[0m\u001b[0;34m\u001b[0m\u001b[0;34m\u001b[0m\u001b[0m\n\u001b[0;32m---> 98\u001b[0;31m \u001b[0mhls_model\u001b[0m\u001b[0;34m.\u001b[0m\u001b[0mbuild\u001b[0m\u001b[0;34m(\u001b[0m\u001b[0mcsim\u001b[0m\u001b[0;34m=\u001b[0m\u001b[0;32mFalse\u001b[0m\u001b[0;34m)\u001b[0m\u001b[0;34m\u001b[0m\u001b[0;34m\u001b[0m\u001b[0m\n\u001b[0m\u001b[1;32m     99\u001b[0m \u001b[0;34m\u001b[0m\u001b[0m\n\u001b[1;32m    100\u001b[0m \u001b[0;31m# Check the reports\u001b[0m\u001b[0;34m\u001b[0m\u001b[0;34m\u001b[0m\u001b[0m\n",
            "\u001b[0;32m/usr/local/lib/python3.10/dist-packages/hls4ml/model/graph.py\u001b[0m in \u001b[0;36mbuild\u001b[0;34m(self, **kwargs)\u001b[0m\n\u001b[1;32m    869\u001b[0m             \u001b[0mself\u001b[0m\u001b[0;34m.\u001b[0m\u001b[0mwrite\u001b[0m\u001b[0;34m(\u001b[0m\u001b[0;34m)\u001b[0m\u001b[0;34m\u001b[0m\u001b[0;34m\u001b[0m\u001b[0m\n\u001b[1;32m    870\u001b[0m \u001b[0;34m\u001b[0m\u001b[0m\n\u001b[0;32m--> 871\u001b[0;31m         \u001b[0;32mreturn\u001b[0m \u001b[0mself\u001b[0m\u001b[0;34m.\u001b[0m\u001b[0mconfig\u001b[0m\u001b[0;34m.\u001b[0m\u001b[0mbackend\u001b[0m\u001b[0;34m.\u001b[0m\u001b[0mbuild\u001b[0m\u001b[0;34m(\u001b[0m\u001b[0mself\u001b[0m\u001b[0;34m,\u001b[0m \u001b[0;34m**\u001b[0m\u001b[0mkwargs\u001b[0m\u001b[0;34m)\u001b[0m\u001b[0;34m\u001b[0m\u001b[0;34m\u001b[0m\u001b[0m\n\u001b[0m",
            "\u001b[0;32m/usr/local/lib/python3.10/dist-packages/hls4ml/backends/vivado/vivado_backend.py\u001b[0m in \u001b[0;36mbuild\u001b[0;34m(self, model, reset, csim, synth, cosim, validation, export, vsynth, fifo_opt)\u001b[0m\n\u001b[1;32m    201\u001b[0m             \u001b[0mfound\u001b[0m \u001b[0;34m=\u001b[0m \u001b[0mos\u001b[0m\u001b[0;34m.\u001b[0m\u001b[0msystem\u001b[0m\u001b[0;34m(\u001b[0m\u001b[0;34m'command -v vivado_hls > /dev/null'\u001b[0m\u001b[0;34m)\u001b[0m\u001b[0;34m\u001b[0m\u001b[0;34m\u001b[0m\u001b[0m\n\u001b[1;32m    202\u001b[0m             \u001b[0;32mif\u001b[0m \u001b[0mfound\u001b[0m \u001b[0;34m!=\u001b[0m \u001b[0;36m0\u001b[0m\u001b[0;34m:\u001b[0m\u001b[0;34m\u001b[0m\u001b[0;34m\u001b[0m\u001b[0m\n\u001b[0;32m--> 203\u001b[0;31m                 \u001b[0;32mraise\u001b[0m \u001b[0mException\u001b[0m\u001b[0;34m(\u001b[0m\u001b[0;34m'Vivado HLS installation not found. Make sure \"vivado_hls\" is on PATH.'\u001b[0m\u001b[0;34m)\u001b[0m\u001b[0;34m\u001b[0m\u001b[0;34m\u001b[0m\u001b[0m\n\u001b[0m\u001b[1;32m    204\u001b[0m \u001b[0;34m\u001b[0m\u001b[0m\n\u001b[1;32m    205\u001b[0m         \u001b[0mcurr_dir\u001b[0m \u001b[0;34m=\u001b[0m \u001b[0mos\u001b[0m\u001b[0;34m.\u001b[0m\u001b[0mgetcwd\u001b[0m\u001b[0;34m(\u001b[0m\u001b[0;34m)\u001b[0m\u001b[0;34m\u001b[0m\u001b[0;34m\u001b[0m\u001b[0m\n",
            "\u001b[0;31mException\u001b[0m: Vivado HLS installation not found. Make sure \"vivado_hls\" is on PATH."
          ]
        }
      ]
    },
    {
      "cell_type": "code",
      "source": [],
      "metadata": {
        "id": "W6JCq_HiKhpK"
      },
      "execution_count": null,
      "outputs": []
    }
  ]
}
